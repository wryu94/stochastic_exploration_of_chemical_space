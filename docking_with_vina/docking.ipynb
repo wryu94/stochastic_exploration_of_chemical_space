{
 "cells": [
  {
   "cell_type": "markdown",
   "id": "ae5098d8-f297-487d-a050-11fde078a444",
   "metadata": {},
   "source": [
    "At this point, I've figure out how to perform docking in Python using Vina, and now want to implement it into functions so that it works nicely with the current SECS pipeline. \n"
   ]
  },
  {
   "cell_type": "code",
   "execution_count": 11,
   "id": "9dc78321-c91c-4538-a8ad-6c1775f7f4fd",
   "metadata": {},
   "outputs": [],
   "source": [
    "import numpy as np\n",
    "from vina import Vina\n",
    "import subprocess"
   ]
  },
  {
   "cell_type": "code",
   "execution_count": 12,
   "id": "5b261c6c-619d-4c0e-ad0c-12a259c75173",
   "metadata": {},
   "outputs": [],
   "source": [
    "def prepare_ligand(\n",
    "    lig_name,\n",
    "    lig_smiles,\n",
    "    prepare_ligand_script_path\n",
    "):\n",
    "    subprocess.run(\n",
    "    [\"sh\", prepare_ligand_script_path, lig_name, lig_smiles],\n",
    "    check=True\n",
    "    );\n",
    "\n",
    "def prepare_receptor(\n",
    "    receptor_name,\n",
    "    receptor_pdb_path,\n",
    "    prepare_receptor_script_path\n",
    "):\n",
    "    subprocess.run(\n",
    "    [\"sh\", prepare_receptor_script_path, receptor_name, receptor_pdb_path],\n",
    "    check=True\n",
    "    );"
   ]
  },
  {
   "cell_type": "code",
   "execution_count": 13,
   "id": "41275056-df8e-4b45-a325-ac21ffdf2e08",
   "metadata": {
    "scrolled": true
   },
   "outputs": [
    {
     "name": "stdout",
     "output_type": "stream",
     "text": [
      "Scrub completed.\n",
      "Summary of what happened:\n",
      "Input molecules supplied: 1\n",
      "mols processed: 1, skipped by rdkit: 0, failed: 0\n",
      "nr isomers (tautomers and acid/base conjugates): 1 (avg. 1.000 per mol)\n",
      "nr conformers:  1 (avg. 1.000 per isomer, 1.000 per mol)\n"
     ]
    },
    {
     "name": "stderr",
     "output_type": "stream",
     "text": [
      "/opt/anaconda3/envs/molpert/lib/python3.10/site-packages/prody/utilities/misctools.py:424: UserWarning: pkg_resources is deprecated as an API. See https://setuptools.pypa.io/en/latest/pkg_resources.html. The pkg_resources package is slated for removal as early as 2025-11-30. Refrain from using this package or pin to Setuptools<81.\n",
      "  import pkg_resources\n"
     ]
    },
    {
     "name": "stdout",
     "output_type": "stream",
     "text": [
      "Input molecules processed: 1, skipped: 0\n",
      "PDBQT files written: 1\n",
      "PDBQT files not written due to error: 0\n",
      "Input molecules with errors: 0\n",
      "No duplicate molecule molecule names were found\n"
     ]
    },
    {
     "name": "stderr",
     "output_type": "stream",
     "text": [
      "/opt/anaconda3/envs/molpert/lib/python3.10/site-packages/prody/utilities/misctools.py:424: UserWarning: pkg_resources is deprecated as an API. See https://setuptools.pypa.io/en/latest/pkg_resources.html. The pkg_resources package is slated for removal as early as 2025-11-30. Refrain from using this package or pin to Setuptools<81.\n",
      "  import pkg_resources\n"
     ]
    },
    {
     "name": "stdout",
     "output_type": "stream",
     "text": [
      "Input molecules processed: 1, skipped: 0\n",
      "PDBQT files written: 1\n",
      "PDBQT files not written due to error: 0\n",
      "Input molecules with errors: 0\n"
     ]
    }
   ],
   "source": [
    "lig_name = \"PF74\"\n",
    "lig_smiles = \"CN(C([C@H](CC1=CC=CC=C1)NC(CC2=C(C)NC3=C2C=CC=C3)=O)=O)C4=CC=CC=C4\"\n",
    "prepare_ligand_script_path = \"script/prepare_ligand.sh\"\n",
    "prepare_ligand(\n",
    "    lig_name,\n",
    "    lig_smiles,\n",
    "    prepare_ligand_script_path\n",
    ")"
   ]
  },
  {
   "cell_type": "code",
   "execution_count": 14,
   "id": "02e47dd3-dd98-4c91-aea6-e057a4fb36bd",
   "metadata": {
    "scrolled": true
   },
   "outputs": [
    {
     "name": "stderr",
     "output_type": "stream",
     "text": [
      "/opt/anaconda3/envs/molpert/lib/python3.10/site-packages/prody/utilities/misctools.py:424: UserWarning: pkg_resources is deprecated as an API. See https://setuptools.pypa.io/en/latest/pkg_resources.html. The pkg_resources package is slated for removal as early as 2025-11-30. Refrain from using this package or pin to Setuptools<81.\n",
      "  import pkg_resources\n",
      "@> 4919 atoms and 1 coordinate set(s) were parsed in 0.02s.\n"
     ]
    },
    {
     "name": "stdout",
     "output_type": "stream",
     "text": [
      "\n",
      "Files written:\n",
      "4XFZ.pdbqt <-- static (i.e., rigid) receptor input file\n"
     ]
    }
   ],
   "source": [
    "receptor_name = \"4XFZ\"\n",
    "receptor_pdb_path = \"reference/4xfz_two_chain_dry_clean.pdb\"\n",
    "prepare_receptor_script_path = \"script/prepare_receptor.sh\"\n",
    "\n",
    "prepare_receptor(\n",
    "    receptor_name,\n",
    "    receptor_pdb_path,\n",
    "    prepare_receptor_script_path\n",
    ")"
   ]
  },
  {
   "cell_type": "code",
   "execution_count": 20,
   "id": "5f064aec-14e1-40ca-9fc0-71bc1c3ef931",
   "metadata": {},
   "outputs": [],
   "source": [
    "def vina_setup_receptor(\n",
    "    receptor_pdbqt,\n",
    "    grid_center,\n",
    "):\n",
    "# https://github.com/ccsb-scripps/AutoDock-Vina/tree/develop\n",
    "# https://github.com/janash/iqb-2024/blob/main/docking_single_ligand.ipynb\n",
    "# https://autodock-vina.readthedocs.io/en/latest/docking_python.html\n",
    "    v = Vina(sf_name='vina')\n",
    "    v.set_receptor(rigid_pdbqt_filename=receptor_pdbqt)\n",
    "    v.compute_vina_maps(center=grid_center, box_size=[20, 20, 20])\n",
    "    return v \n",
    "\n",
    "def vina_dock_ligand(\n",
    "    v, # vina model\n",
    "    ligand_pdbqt,\n",
    "    output_folder,\n",
    "    output_name,\n",
    "    exhaustiveness=100\n",
    "):\n",
    "# https://github.com/ccsb-scripps/AutoDock-Vina/tree/develop\n",
    "# https://github.com/janash/iqb-2024/blob/main/docking_single_ligand.ipynb\n",
    "# https://autodock-vina.readthedocs.io/en/latest/docking_python.html\n",
    "    v.set_ligand_from_file(ligand_pdbqt)    \n",
    "    # Dock the ligand\n",
    "    v.dock(exhaustiveness=exhaustiveness)\n",
    "    v.optimize()\n",
    "    v.write_poses(output_folder+output_name, n_poses=5, overwrite=True)\n",
    "    return v"
   ]
  },
  {
   "cell_type": "code",
   "execution_count": 21,
   "id": "ba9244cc-aa9e-429a-a220-2fa1897d45f2",
   "metadata": {},
   "outputs": [
    {
     "name": "stdout",
     "output_type": "stream",
     "text": [
      "Computing Vina grid ... done.\n",
      "Performing docking (random seed: 934508013) ... \n",
      "0%   10   20   30   40   50   60   70   80   90   100%\n",
      "|----|----|----|----|----|----|----|----|----|----|\n",
      "***************************************************\n",
      "\n",
      "mode |   affinity | dist from best mode\n",
      "     | (kcal/mol) | rmsd l.b.| rmsd u.b.\n",
      "-----+------------+----------+----------\n",
      "   1       -9.614          0          0\n",
      "   2       -8.996      1.304      2.044\n",
      "   3        -8.92      1.958      7.899\n",
      "   4       -8.595      2.415       7.46\n",
      "   5       -8.532      5.038      8.381\n",
      "   6       -8.505     0.9995      2.396\n",
      "   7       -8.503      1.165      1.755\n",
      "   8       -8.397       3.16      6.662\n",
      "   9       -8.332      2.334      4.421\n",
      "  10       -8.289       1.45      4.385\n",
      "  11       -8.107       1.82      3.583\n",
      "  12       -8.105      1.706      2.775\n",
      "  13       -7.994      4.132      7.883\n",
      "  14       -7.969      4.566      7.657\n",
      "  15       -7.958      3.836      6.894\n",
      "  16       -7.863      1.518      3.866\n",
      "  17       -7.859      4.008      7.803\n",
      "  18       -7.842      2.357      3.843\n",
      "  19       -7.813      2.603      7.994\n",
      "  20       -7.801      3.917      7.985\n",
      "Performing local search ... done.\n"
     ]
    }
   ],
   "source": [
    "receptor_pdbqt = \"./4XFZ.pdbqt\"\n",
    "grid_center    = [19.61, -23.07, 0.3]\n",
    "ligand_pdbqt   = \"prepared_ligands/PF74-1.pdbqt\"\n",
    "output_folder  = \"docked_poses/\"\n",
    "output_name    = \"4XFZ_PF74_test.pdbqt\"\n",
    "\n",
    "v = vina_dock_ligand(\n",
    "        vina_setup_receptor(receptor_pdbqt,grid_center),\n",
    "        ligand_pdbqt,\n",
    "        output_folder,\n",
    "        output_name\n",
    ")"
   ]
  },
  {
   "cell_type": "code",
   "execution_count": 22,
   "id": "f421c1d2-c261-4376-bc78-eedacd1421a2",
   "metadata": {},
   "outputs": [
    {
     "data": {
      "text/plain": [
       "-9.614"
      ]
     },
     "execution_count": 22,
     "metadata": {},
     "output_type": "execute_result"
    }
   ],
   "source": [
    "v.energies()[0,0]"
   ]
  },
  {
   "cell_type": "code",
   "execution_count": null,
   "id": "cae00a14-a4b3-4907-bb7d-b9aa7b48419c",
   "metadata": {},
   "outputs": [],
   "source": []
  }
 ],
 "metadata": {
  "kernelspec": {
   "display_name": "Python 3 (ipykernel)",
   "language": "python",
   "name": "python3"
  },
  "language_info": {
   "codemirror_mode": {
    "name": "ipython",
    "version": 3
   },
   "file_extension": ".py",
   "mimetype": "text/x-python",
   "name": "python",
   "nbconvert_exporter": "python",
   "pygments_lexer": "ipython3",
   "version": "3.10.18"
  }
 },
 "nbformat": 4,
 "nbformat_minor": 5
}
