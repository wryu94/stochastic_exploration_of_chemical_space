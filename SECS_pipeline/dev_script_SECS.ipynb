{
 "cells": [
  {
   "cell_type": "code",
   "execution_count": 1,
   "id": "593dccbb-8717-4f11-9060-b9282e9aef35",
   "metadata": {
    "jupyter": {
     "source_hidden": true
    }
   },
   "outputs": [],
   "source": [
    "import molpert as mpt\n",
    "from rdkit import Chem\n",
    "from rdkit.Chem import Draw\n",
    "from rdkit.Chem.Draw import MolsToGridImage\n",
    "from rdkit.Chem.Descriptors import CalcMolDescriptors\n",
    "from rdkit import RDLogger\n",
    "from rdkit.Chem import AllChem, DataStructs\n",
    "\n",
    "import numpy as np\n",
    "import pandas as pd\n",
    "import matplotlib.pyplot as plt\n",
    "from matplotlib import gridspec\n",
    "from PIL import Image\n",
    "import textwrap\n",
    "from tqdm import tqdm\n",
    "\n",
    "import sascorer\n",
    "\n",
    "from rdkit.Chem import rdFingerprintGenerator\n",
    "from rdkit import DataStructs\n",
    "from rdkit.ML.Cluster import Butina\n",
    "\n",
    "# Suppress RDKit warnings and errors\n",
    "RDLogger.DisableLog('rdApp.*')\n",
    "\n",
    "from vina import Vina\n",
    "import subprocess\n",
    "from pathlib import Path\n",
    "\n",
    "def propagate_chemical_space_trajectory(\n",
    "    starting_smiles,            # smiles of the starting structure\n",
    "    iteration,         # how many times to do the perturbation for, including the first structure\n",
    "    SA_score_threshold # only get structures with SA score lower than the threshold \n",
    "):\n",
    "    def sensible_structure(molecule):\n",
    "    # Only accept structures that raise no flags when using RDKit sanitization\n",
    "        try:\n",
    "            result = Chem.SanitizeMol(molecule)\n",
    "            return result == Chem.rdmolops.SanitizeFlags.SANITIZE_NONE\n",
    "        except Exception as e:\n",
    "            # You can log or inspect e if needed\n",
    "            return False\n",
    "\n",
    "    def SA_score(molecule):\n",
    "    # Only accept structures with SA score under some threshold\n",
    "    # The threshold value is kinda arbitrary (and would depend on the system)\n",
    "        return sascorer.calculateScore(molecule) < SA_score_threshold\n",
    "    \n",
    "    # Molecule array\n",
    "    molecule = Chem.MolFromSmiles(starting_smiles, sanitize=True)\n",
    "    mol_array = [Chem.Mol(molecule)]\n",
    "\n",
    "    # Set constraint to only get 'sensible' structures\n",
    "    # Could add pains filter here \n",
    "    constraints = mpt.MolecularConstraints()\n",
    "    constraints.SetMoleculeConstraint(\n",
    "        molecule_constraint=sensible_structure\n",
    "    )\n",
    "    constraints.SetMoleculeConstraint(\n",
    "        molecule_constraint=SA_score\n",
    "    )\n",
    "\n",
    "    # Iterate for a given number of steps \n",
    "    for i in tqdm(range(iteration-1)):\n",
    "        # Build molecule on rdkit & tag them which is needed for molpert\n",
    "        mpt.TagMolecule(molecule)\n",
    "        \n",
    "        # Perturber and random number\n",
    "        perturber = mpt.MoleculePerturber()\n",
    "        #perturber = mpt.MoleculePerturber(use_aromatic_bonds=False, acyclic_can_be_aromatic=False)\n",
    "            # Idk what the best setting for these / especially how to deal with aromaticity \n",
    "        prng = mpt.PRNG()\n",
    "\n",
    "        # Actually perform perturbation \n",
    "        perturbation = perturber.Perturbation(\n",
    "            molecule=molecule,\n",
    "            prng=prng,\n",
    "            constraints=constraints\n",
    "        )\n",
    "        mpt.ExecutePerturbation(perturbation, molecule)\n",
    "\n",
    "        # Sanitize\n",
    "        Chem.SanitizeMol(molecule)\n",
    "        \n",
    "        # Add the new perturbed molecule to the array\n",
    "        # Reset smiles_i to be used for next perturbation \n",
    "        mol_array.append(Chem.Mol(molecule))\n",
    "\n",
    "    return np.array(mol_array)\n",
    "\n",
    "def mol_movie(mols, outfile, fps=6, img_size=200):\n",
    "    \"\"\"\n",
    "    Create an animated GIF from a list of RDKit Mol objects,\n",
    "    aligning each to the previous one based on their common substructure.\n",
    "    \n",
    "    mols: list of RDKit Mol objects\n",
    "    outfile: name of the output GIF\n",
    "    fps: frames per second\n",
    "    \"\"\"\n",
    "    # Ensure molecules have coordinates for drawing\n",
    "    for mol in mols:\n",
    "        AllChem.Compute2DCoords(mol)\n",
    "\n",
    "    images = []\n",
    "\n",
    "    for i, mol in tqdm(enumerate(mols)):\n",
    "        if i > 0:\n",
    "            # Find maximum common substructure\n",
    "            core = Chem.MolFromSmarts(Chem.MolToSmarts(mols[i-1]))\n",
    "            match1 = mols[i-1].GetSubstructMatch(core)\n",
    "            match2 = mol.GetSubstructMatch(core)\n",
    "\n",
    "            if match1 and match2:\n",
    "                AllChem.AlignMol(mol, mols[i-1], atomMap=list(zip(match2, match1)))\n",
    "\n",
    "        # Draw molecule\n",
    "        img = Draw.MolToImage(mol, size=(img_size, img_size))\n",
    "    \n",
    "        # Add index text\n",
    "        draw = ImageDraw.Draw(img)\n",
    "        draw.text((10, 10), str(i), font=ImageFont.load_default(), fill=(0, 0, 0))\n",
    "\n",
    "        images.append(img)\n",
    "        \n",
    "        #img = Draw.MolToImage(mol, size=(300, 300))\n",
    "        #images.append(img)\n",
    "\n",
    "    # Save as animated GIF using PIL\n",
    "    images[0].save(\n",
    "        f\"{outfile}.gif\",\n",
    "        save_all=True,\n",
    "        append_images=images[1:],\n",
    "        duration=int(1000/fps),  # milliseconds per frame\n",
    "        loop=0\n",
    "    )\n",
    "    print(f\"Movie saved to {outfile}.gif\")\n",
    "\n",
    "def mol_similarity(\n",
    "    mol1, \n",
    "    mol2\n",
    "):\n",
    "    # Generate Morgan fingerprints (ECFP4 radius=2)\n",
    "    fp1 = AllChem.GetMorganFingerprintAsBitVect(mol1, radius=2, nBits=2048)\n",
    "    fp2 = AllChem.GetMorganFingerprintAsBitVect(mol2, radius=2, nBits=2048)\n",
    "\n",
    "    return DataStructs.TanimotoSimilarity(fp1, fp2)\n",
    "\n",
    "def trajectory_quantification(\n",
    "    mol_array\n",
    "):\n",
    "# For each trajectory, want to calculate 3 sets of quantities\n",
    "# a) graph quantities: # of atoms, # of bonds, topological complexity \n",
    "# https://www.rdkit.org/docs/source/rdkit.Chem.GraphDescriptors.html\n",
    "# b) Lipinski quantities: Hbond donor, Hbond acceptor, molecular mass, ClogP\n",
    "# c) Fingerprint similiariy wrt starting point\n",
    "# d) SA score\n",
    "    rows = []\n",
    "\n",
    "    for mol in mol_array:\n",
    "        rows.append({\n",
    "            # a) Graph quantities\n",
    "            \"NumAtoms\": mol.GetNumAtoms(),\n",
    "            \"NumBonds\": mol.GetNumBonds(),\n",
    "            \"BertzCT\": Chem.GraphDescriptors.BertzCT(mol),\n",
    "            # b) Lipinski quantities\n",
    "            \"HBA\": Chem.Lipinski.NumHAcceptors(mol),\n",
    "            \"HBD\": Chem.Lipinski.NumHDonors(mol),\n",
    "            \"MolWt\": Chem.Descriptors.MolWt(mol),\n",
    "            \"ClogP\": Chem.Descriptors.MolLogP(mol),\n",
    "            # c) Fingerprint similarity w.r.t. starting point\n",
    "            \"FingerprintSim\": mol_similarity(mol, mol_array[0]),\n",
    "            # d) SA score\n",
    "            \"SA_Score\": sascorer.calculateScore(mol),\n",
    "            # Extra\n",
    "            \"SMILES\": Chem.MolToSmiles(mol)\n",
    "        })\n",
    "    \n",
    "    # Create DataFrame with explicit column order\n",
    "    df = pd.DataFrame(rows, columns=[\n",
    "        \"NumAtoms\", \"NumBonds\", \"BertzCT\",\n",
    "        \"HBA\", \"HBD\", \"MolWt\", \"ClogP\",\n",
    "        \"FingerprintSim\", \"SA_Score\", \"SMILES\"\n",
    "    ])\n",
    "\n",
    "    return df    \n",
    "\n",
    "def plot_quantification_traj(\n",
    "    df,\n",
    "    show_initial_value\n",
    "):\n",
    "    fig, axs = plt.subplots(2, 3, figsize=(12, 6))  # 1 row, 3 columns\n",
    "    font = 14\n",
    "    \n",
    "    axs[0,0].plot(df['BertzCT'])\n",
    "    axs[0,0].tick_params(axis='both', labelsize=font)\n",
    "    axs[0,0].set_xlabel('Perturbations',size=font);\n",
    "    axs[0,0].legend(['Topological Index'],fontsize=font-4);\n",
    "\n",
    "    axs[0,1].plot(df['HBA'])\n",
    "    axs[0,1].plot(df['HBD'])\n",
    "    axs[0,1].tick_params(axis='both', labelsize=font)\n",
    "    axs[0,1].legend(['# HBA','# HBD'],fontsize=font-4);\n",
    "    axs[0,1].set_xlabel('Perturbations',size=font);\n",
    "\n",
    "    axs[0,2].plot(df['MolWt'])\n",
    "    axs[0,2].tick_params(axis='both', labelsize=font)\n",
    "    axs[0,2].set_xlabel('Perturbations',size=font);\n",
    "    axs[0,2].legend(['Molecular Weight'],fontsize=font-4);\n",
    "\n",
    "    axs[1,0].plot(df['ClogP'])\n",
    "    axs[1,0].tick_params(axis='both', labelsize=font)\n",
    "    axs[1,0].set_xlabel('Perturbations',size=font);\n",
    "    axs[1,0].legend(['Partition Coefficient'],fontsize=font-4);\n",
    "\n",
    "    axs[1,1].plot(df['FingerprintSim'])\n",
    "    axs[1,1].tick_params(axis='both', labelsize=font)\n",
    "    axs[1,1].set_xlabel('Perturbations',size=font);\n",
    "    axs[1,1].legend(['Fingerprint Similarity\\nwrt Starting Point'],fontsize=font-4);\n",
    "\n",
    "    axs[1,2].plot(df['SA_Score'])\n",
    "    axs[1,2].tick_params(axis='both', labelsize=font)\n",
    "    axs[1,2].set_xlabel('Perturbations',size=font);\n",
    "    axs[1,2].legend(['SA Score'],fontsize=font-4);\n",
    "\n",
    "    if show_initial_value:\n",
    "        axs[0,0].axhline(df.iloc[0]['BertzCT'], color='red', linestyle=':')\n",
    "        axs[0,1].axhline(df.iloc[0]['HBA'], color='tab:blue', linestyle=':')\n",
    "        axs[0,1].axhline(df.iloc[0]['HBD'], color='tab:orange', linestyle=':')\n",
    "        axs[0,2].axhline(df.iloc[0]['MolWt'], color='red', linestyle=':')\n",
    "        axs[1,0].axhline(df.iloc[0]['ClogP'], color='red', linestyle=':')\n",
    "        axs[1,1].axhline(df.iloc[0]['FingerprintSim'], color='red', linestyle=':')\n",
    "        axs[1,2].axhline(df.iloc[0]['SA_Score'], color='red', linestyle=':')\n",
    "    \n",
    "    plt.tight_layout()\n",
    "    plt.show()\n",
    "\n",
    "def plot_quantification_hist(\n",
    "    df,\n",
    "    show_initial_value\n",
    "):\n",
    "    fig, axs = plt.subplots(2, 3, figsize=(12, 6))  # 1 row, 3 columns\n",
    "    font = 14\n",
    "    \n",
    "    axs[0,0].hist(df['BertzCT'],bins=20,density=True)\n",
    "    axs[0,0].tick_params(axis='both', labelsize=font)\n",
    "    axs[0,0].legend(['Topological Index'],fontsize=font-4);\n",
    "\n",
    "    axs[0,1].hist(df['HBA'],bins=20,density=True)\n",
    "    axs[0,1].hist(df['HBD'],bins=20,density=True)\n",
    "    axs[0,1].tick_params(axis='both', labelsize=font)\n",
    "    axs[0,1].legend(['# HBA','# HBD'],fontsize=font-4);\n",
    "\n",
    "    axs[0,2].hist(df['MolWt'],bins=20,density=True)\n",
    "    axs[0,2].tick_params(axis='both', labelsize=font)\n",
    "    axs[0,2].legend(['Molecular Weight'],fontsize=font-4);\n",
    "\n",
    "    axs[1,0].hist(df['ClogP'],bins=20,density=True)\n",
    "    axs[1,0].tick_params(axis='both', labelsize=font)\n",
    "    axs[1,0].legend(['Partition Coefficient'],fontsize=font-4);\n",
    "\n",
    "    axs[1,1].hist(df['FingerprintSim'],bins=20,density=True)\n",
    "    axs[1,1].tick_params(axis='both', labelsize=font)\n",
    "    axs[1,1].legend(['Fingerprint Similarity\\nwrt Starting Point'],fontsize=font-4);\n",
    "\n",
    "    axs[1,2].hist(df['SA_Score'],bins=20,density=True)\n",
    "    axs[1,2].tick_params(axis='both', labelsize=font)\n",
    "    axs[1,2].legend(['SA Score'],fontsize=font-4);\n",
    "    \n",
    "    if show_initial_value:\n",
    "        axs[0,0].axvline(df.iloc[0]['BertzCT'], color='red', linestyle=':')\n",
    "        axs[0,1].axvline(df.iloc[0]['HBA'], color='tab:blue', linestyle=':')\n",
    "        axs[0,1].axvline(df.iloc[0]['HBD'], color='tab:orange', linestyle=':')\n",
    "        axs[0,2].axvline(df.iloc[0]['MolWt'], color='red', linestyle=':')\n",
    "        axs[1,0].axvline(df.iloc[0]['ClogP'], color='red', linestyle=':')\n",
    "        axs[1,1].axvline(df.iloc[0]['FingerprintSim'], color='red', linestyle=':')\n",
    "        axs[1,2].axvline(df.iloc[0]['SA_Score'], color='red', linestyle=':')\n",
    "    \n",
    "    plt.tight_layout()\n",
    "    plt.show()\n",
    "\n",
    "def tanimoto_distance_matrix(fp_list):\n",
    "    \"\"\"Calculate distance matrix for fingerprint list\"\"\"\n",
    "    dissimilarity_matrix = []\n",
    "    # Notice how we are deliberately skipping the first and last items in the list\n",
    "    # because we don't need to compare them against themselves\n",
    "    for i in range(1, len(fp_list)):\n",
    "        # Compare the current fingerprint against all the previous ones in the list\n",
    "        similarities = DataStructs.BulkTanimotoSimilarity(fp_list[i], fp_list[:i])\n",
    "        # Since we need a distance matrix, calculate 1-x for every element in similarity matrix\n",
    "        dissimilarity_matrix.extend([1 - x for x in similarities])\n",
    "    return dissimilarity_matrix\n",
    "\n",
    "def cluster_fingerprints(fingerprints, cutoff=0.2):\n",
    "    \"\"\"Cluster fingerprints\n",
    "    Parameters:\n",
    "        fingerprints\n",
    "        cutoff: threshold for the clustering\n",
    "    \"\"\"\n",
    "    # Calculate Tanimoto distance matrix\n",
    "    distance_matrix = tanimoto_distance_matrix(fingerprints)\n",
    "    # Now cluster the data with the implemented Butina algorithm:\n",
    "    clusters = Butina.ClusterData(distance_matrix, len(fingerprints), cutoff, isDistData=True)\n",
    "    clusters = sorted(clusters, key=len, reverse=True)\n",
    "    return clusters\n",
    "\n",
    "def get_cluster_medoids(\n",
    "    fingerprints, \n",
    "    clusters,\n",
    "    cluster_size_threshold # Only save info for cluster with certain amount of elements innit\n",
    "):\n",
    "    medoids = []\n",
    "    for cluster in clusters:\n",
    "        if len(cluster) < cluster_size_threshold:\n",
    "            continue\n",
    "        else:\n",
    "            # Compute average similarity to all others in the cluster\n",
    "            avg_sims = []\n",
    "            for idx in cluster:\n",
    "                sims = DataStructs.BulkTanimotoSimilarity(fingerprints[idx], [fingerprints[i] for i in cluster if i != idx])\n",
    "                avg_sims.append(np.mean(sims))\n",
    "            avg_sims = np.array(avg_sims)\n",
    "    \n",
    "            # Select the index with the highest average similarity\n",
    "            medoid_idx = cluster[np.argmax(avg_sims)]\n",
    "            medoids.append(medoid_idx)\n",
    "    return np.array(medoids)\n",
    "\n",
    "def cluster_trajectory(\n",
    "    mol_array, \n",
    "    cluster_size_threshold\n",
    "):\n",
    "    # https://projects.volkamerlab.org/teachopencadd/talktorials/T005_compound_clustering.html\n",
    "    # use case would be: \n",
    "    # traj_concat = np.concatenate(trajectories)           // concatenate trajectories which most likely will be in replicates\n",
    "    # clusters, medoids = cluster_trajectory(traj_concat)  // get cluster and medoid info (in index of traj_concat) \n",
    "    # then traj_concat[medoids] would be the representative structures that will be docked (or sth) \n",
    "    \n",
    "    # Create fingerprints for all molecules\n",
    "    rdkit_gen = rdFingerprintGenerator.GetRDKitFPGenerator(maxPath=5)\n",
    "    fingerprints = [rdkit_gen.GetFingerprint(mol) for mol in mol_array]\n",
    "\n",
    "    # Cluster based on fingerprints\n",
    "    clusters = cluster_fingerprints(fingerprints)\n",
    "    medoids = get_cluster_medoids(fingerprints, clusters, cluster_size_threshold)\n",
    "\n",
    "    return clusters, medoids\n",
    "\n",
    "def prepare_ligand(\n",
    "    lig_name,\n",
    "    lig_smiles,\n",
    "    prepare_ligand_script_path\n",
    "):\n",
    "    try:\n",
    "        subprocess.run(\n",
    "            [\"sh\", prepare_ligand_script_path, lig_name, lig_smiles],\n",
    "            check=True\n",
    "        )\n",
    "    except subprocess.CalledProcessError as e:\n",
    "        print(f\"Skipping {lig_name} due to error: {e}\")\n",
    "\n",
    "def prepare_receptor(\n",
    "    receptor_name,\n",
    "    receptor_pdb_path,\n",
    "    prepare_receptor_script_path\n",
    "):\n",
    "    subprocess.run(\n",
    "    [\"sh\", prepare_receptor_script_path, receptor_name, receptor_pdb_path],\n",
    "    check=True\n",
    "    );\n",
    "\n",
    "def vina_setup_receptor(\n",
    "    receptor_pdbqt,\n",
    "    grid_center,\n",
    "):\n",
    "# https://github.com/ccsb-scripps/AutoDock-Vina/tree/develop\n",
    "# https://github.com/janash/iqb-2024/blob/main/docking_single_ligand.ipynb\n",
    "# https://autodock-vina.readthedocs.io/en/latest/docking_python.html\n",
    "    v = Vina(sf_name='vina')\n",
    "    v.set_receptor(rigid_pdbqt_filename=receptor_pdbqt)\n",
    "    v.compute_vina_maps(center=grid_center, box_size=[20, 20, 20])\n",
    "    return v \n",
    "\n",
    "def vina_dock_ligand(\n",
    "    v, # vina model\n",
    "    ligand_pdbqt,\n",
    "    output_folder,\n",
    "    output_name#, exhaustiveness=100\n",
    "):\n",
    "# https://github.com/ccsb-scripps/AutoDock-Vina/tree/develop\n",
    "# https://github.com/janash/iqb-2024/blob/main/docking_single_ligand.ipynb\n",
    "# https://autodock-vina.readthedocs.io/en/latest/docking_python.html\n",
    "    v.set_ligand_from_file(ligand_pdbqt)    \n",
    "    # Dock the ligand\n",
    "    v.dock()#exhaustiveness=exhaustiveness)\n",
    "    v.optimize()\n",
    "    v.write_poses(output_folder+output_name, n_poses=5, overwrite=True)\n",
    "    return v"
   ]
  },
  {
   "cell_type": "code",
   "execution_count": 2,
   "id": "a618b6a1-ac1a-4684-8176-5eacef52686a",
   "metadata": {
    "jupyter": {
     "source_hidden": true
    }
   },
   "outputs": [],
   "source": [
    "def propagate_chemical_space_trajectory_reps(\n",
    "    starting_point,\n",
    "    n_rep,\n",
    "    n_pert,\n",
    "    SA_threshold\n",
    "):\n",
    "    trajs = []\n",
    "    for i in range(n_rep):\n",
    "        trajs.append(\n",
    "            propagate_chemical_space_trajectory(\n",
    "                starting_point,\n",
    "                n_pert,\n",
    "                SA_threshold)\n",
    "        )\n",
    "    return trajs\n",
    "\n",
    "def prepare_ligand_batch(\n",
    "    medoids,\n",
    "    trajs_concat,\n",
    "    epoch,\n",
    "    prepare_ligand_script_path\n",
    "):\n",
    "    for idx in medoids:\n",
    "        lig_name   = f\"epoch_{epoch}_lig_{idx}\"\n",
    "        lig_smiles = Chem.MolToSmiles(trajs_concat[idx])\n",
    "        prepare_ligand(\n",
    "            lig_name,\n",
    "            lig_smiles,\n",
    "            prepare_ligand_script_path\n",
    "        )\n",
    "    # Move ligands that failed preparation step to a folder\n",
    "    subprocess.run(\"mv *.sdf failed_ligands\", shell=True);\n",
    "\n",
    "def vina_dock_ligand_batch(\n",
    "    prepared_ligands_path,\n",
    "    epoch,\n",
    "    v_receptor,\n",
    "    output_folder\n",
    "):\n",
    "    # Dock ligands to prepared receptor grid \n",
    "    docking_result = []\n",
    "    for i, pdbqt_file in tqdm(enumerate(Path(prepared_ligands_path).glob(f\"epoch_{epoch}_*.pdbqt\"))):\n",
    "        lig_name = pdbqt_file.name.split(\".\")[0]\n",
    "        print(f\"Docking: {lig_name}\")      \n",
    "        result = vina_dock_ligand(\n",
    "            v_receptor,\n",
    "            str(pdbqt_file),\n",
    "            output_folder,\n",
    "            f\"docked_{lig_name}.pdbqt\"\n",
    "        )\n",
    "\n",
    "        lig_idx = lig_name.split('-')[0]\n",
    "        tautomer_idx = int(lig_name.split('-')[1])-1\n",
    "        \n",
    "        docking_result.append({\n",
    "            'epoch': epoch,\n",
    "            'name': lig_name,\n",
    "            'docking_score': result.energies()[0,0],\n",
    "            'smiles': [Chem.MolToSmiles(mol) for mol in Chem.SDMolSupplier(f'{prepared_ligands_path}/{lig_idx}.sdf') if mol][tautomer_idx]\n",
    "            # Kinda convoluted, but no really good way of knowing which ligand has been prepared or not, so read it back from the sdf file that has been generated\n",
    "        })\n",
    "    return np.array(docking_result)\n",
    "\n",
    "def vina_prepare_and_dock_ligand_first(\n",
    "    starting_point,\n",
    "    starting_point_name,\n",
    "    prepare_ligand_script_path,\n",
    "    v_receptor,\n",
    "    prepared_ligands_path,\n",
    "    output_folder\n",
    "):\n",
    "    # Docking info for the starting structure \n",
    "    prepare_ligand(starting_point_name, starting_point, prepare_ligand_script_path)\n",
    "    lig_name = 'epoch_0-1'\n",
    "    result = vina_dock_ligand(\n",
    "                v_receptor,\n",
    "                prepared_ligands_path+f'/{lig_name}.pdbqt', # Assuming there's only one isomer\n",
    "                output_folder,\n",
    "                f\"docked_{lig_name}.pdbqt\"\n",
    "            )\n",
    "    v_dict = {\n",
    "        'epoch': 0,\n",
    "        'name': lig_name,\n",
    "        'docking_score': result.energies()[0,0],\n",
    "        'smiles': starting_point\n",
    "    }\n",
    "\n",
    "    return v_dict\n",
    "\n",
    "def sigmoid_acceptance_criteria(\n",
    "    docking_result,\n",
    "    prev_docking,\n",
    "    a # Slope of sigmoid function // (lower it is, the more 'generous' it is in accepting lower docking score structures) \n",
    "):\n",
    "    def sigmoid(x,a):\n",
    "        return 1/(1 + np.exp(-a*x))\n",
    "\n",
    "    accept_or_reject = []\n",
    "    for i in docking_result:\n",
    "        difference = prev_docking - i['docking_score']\n",
    "        random = np.random.uniform()\n",
    "        accept_or_reject.append(\n",
    "            sigmoid(difference,1)>random\n",
    "        )\n",
    "    return accept_or_reject"
   ]
  },
  {
   "cell_type": "code",
   "execution_count": 3,
   "id": "55b729ea-3cc1-418d-b846-692085aa5d2e",
   "metadata": {},
   "outputs": [
    {
     "name": "stderr",
     "output_type": "stream",
     "text": [
      "rm: failed_ligands/*: No such file or directory\n"
     ]
    }
   ],
   "source": [
    "# Clean direcotories\n",
    "subprocess.run(\"rm prepared_ligands/*\", shell=True);\n",
    "subprocess.run(\"rm failed_ligands/*\", shell=True);\n",
    "subprocess.run(\"rm docked_poses/*\", shell=True);\n",
    "subprocess.run(\"rm *.pdbqt\", shell=True);"
   ]
  },
  {
   "cell_type": "code",
   "execution_count": 4,
   "id": "b4285db6-608a-4b17-95ec-fe78a0d5bb0e",
   "metadata": {},
   "outputs": [
    {
     "name": "stderr",
     "output_type": "stream",
     "text": [
      "/opt/anaconda3/envs/molpert/lib/python3.10/site-packages/prody/utilities/misctools.py:424: UserWarning: pkg_resources is deprecated as an API. See https://setuptools.pypa.io/en/latest/pkg_resources.html. The pkg_resources package is slated for removal as early as 2025-11-30. Refrain from using this package or pin to Setuptools<81.\n",
      "  import pkg_resources\n",
      "@> 4919 atoms and 1 coordinate set(s) were parsed in 0.02s.\n"
     ]
    },
    {
     "name": "stdout",
     "output_type": "stream",
     "text": [
      "\n",
      "Files written:\n",
      "4XFZ.pdbqt <-- static (i.e., rigid) receptor input file\n",
      "Computing Vina grid ... done.\n"
     ]
    }
   ],
   "source": [
    "# Set parameters\n",
    "n_epoch      = 100\n",
    "n_rep        = 2\n",
    "n_pert       = 50\n",
    "SA_threshold = 5 # Setting it to 10 essentially removes the SA constraint\n",
    "starting_point      = \"CN(C([C@H](CC1=CC=CC=C1)NC(CC2=C(C)NC3=C2C=CC=C3)=O)=O)C4=CC=CC=C4\" # PF74\n",
    "starting_point_name = \"epoch_0\"\n",
    "\n",
    "# Script paths \n",
    "prepare_ligand_script_path   = \"script/prepare_ligand.sh\"\n",
    "prepare_receptor_script_path = \"script/prepare_receptor.sh\"\n",
    "\n",
    "# Cluster population treshold\n",
    "cluster_size_threshold = 4\n",
    "\n",
    "# Folder name (without / at the end) of where the prepared ligands (.pdbqt) are saved\n",
    "prepared_ligands_path = \"prepared_ligands\"\n",
    "\n",
    "# Prepare receptor, which will not change throughout simulation \n",
    "receptor_name     = \"4XFZ\"\n",
    "receptor_pdb_path = \"reference/4xfz_two_chain_dry_clean.pdb\"\n",
    "prepare_receptor(\n",
    "    receptor_name,\n",
    "    receptor_pdb_path,\n",
    "    prepare_receptor_script_path\n",
    ")\n",
    "\n",
    "# Prepare receptor grid to dock on \n",
    "receptor_pdbqt = \"./4XFZ.pdbqt\"\n",
    "grid_center    = [19.61, -23.07, 0.3]\n",
    "output_folder  = \"docked_poses/\"\n",
    "v_receptor = vina_setup_receptor(receptor_pdbqt, grid_center)"
   ]
  },
  {
   "cell_type": "code",
   "execution_count": null,
   "id": "19836d79-6ea5-43f6-b8c7-70cf7843ec15",
   "metadata": {
    "scrolled": true
   },
   "outputs": [
    {
     "name": "stdout",
     "output_type": "stream",
     "text": [
      "Scrub completed.\n",
      "Summary of what happened:\n",
      "Input molecules supplied: 1\n",
      "mols processed: 1, skipped by rdkit: 0, failed: 0\n",
      "nr isomers (tautomers and acid/base conjugates): 1 (avg. 1.000 per mol)\n",
      "nr conformers:  1 (avg. 1.000 per isomer, 1.000 per mol)\n"
     ]
    },
    {
     "name": "stderr",
     "output_type": "stream",
     "text": [
      "/opt/anaconda3/envs/molpert/lib/python3.10/site-packages/prody/utilities/misctools.py:424: UserWarning: pkg_resources is deprecated as an API. See https://setuptools.pypa.io/en/latest/pkg_resources.html. The pkg_resources package is slated for removal as early as 2025-11-30. Refrain from using this package or pin to Setuptools<81.\n",
      "  import pkg_resources\n"
     ]
    },
    {
     "name": "stdout",
     "output_type": "stream",
     "text": [
      "Input molecules processed: 1, skipped: 0\n",
      "PDBQT files written: 1\n",
      "PDBQT files not written due to error: 0\n",
      "Input molecules with errors: 0\n",
      "No duplicate molecule molecule names were found\n"
     ]
    },
    {
     "name": "stderr",
     "output_type": "stream",
     "text": [
      "/opt/anaconda3/envs/molpert/lib/python3.10/site-packages/prody/utilities/misctools.py:424: UserWarning: pkg_resources is deprecated as an API. See https://setuptools.pypa.io/en/latest/pkg_resources.html. The pkg_resources package is slated for removal as early as 2025-11-30. Refrain from using this package or pin to Setuptools<81.\n",
      "  import pkg_resources\n"
     ]
    },
    {
     "name": "stdout",
     "output_type": "stream",
     "text": [
      "Input molecules processed: 1, skipped: 0\n",
      "PDBQT files written: 1\n",
      "PDBQT files not written due to error: 0\n",
      "Input molecules with errors: 0\n"
     ]
    },
    {
     "name": "stderr",
     "output_type": "stream",
     "text": [
      "WARNING: At low exhaustiveness, it may be impossible to utilize all CPUs.\n"
     ]
    },
    {
     "name": "stdout",
     "output_type": "stream",
     "text": [
      "Performing docking (random seed: -236248410) ... \n",
      "0%   10   20   30   40   50   60   70   80   90   100%\n",
      "|----|----|----|----|----|----|----|----|----|----|\n",
      "***************************************************\n",
      "\n",
      "mode |   affinity | dist from best mode\n",
      "     | (kcal/mol) | rmsd l.b.| rmsd u.b.\n",
      "-----+------------+----------+----------\n",
      "   1       -9.514          0          0\n",
      "   2       -8.711     0.9846      2.107\n",
      "   3        -8.52       2.08      7.901\n",
      "   4       -7.846      2.281      7.607\n",
      "   5        -7.82      5.016      8.413\n",
      "   6       -7.806      1.336      2.985\n",
      "   7       -7.639      4.443      8.229\n",
      "   8       -7.521       2.18      3.939\n",
      "   9        -7.23      4.752      7.911\n",
      "  10       -7.214      2.198       3.22\n",
      "  11       -7.193      4.598      8.059\n",
      "  12       -7.152      2.158      4.131\n",
      "  13        -7.15       7.07      10.79\n",
      "  14       -7.109      4.243      7.661\n",
      "  15       -7.104       2.93      5.091\n",
      "  16        -6.96      1.973      3.443\n",
      "  17        -6.96      4.609      8.349\n",
      "  18       -6.951      4.104      7.342\n",
      "  19       -6.941      1.785      2.933\n",
      "  20       -6.937      4.654      8.191\n",
      "Performing local search ... done.\n"
     ]
    },
    {
     "name": "stderr",
     "output_type": "stream",
     "text": [
      "100%|███████████████████████████████████████████| 49/49 [00:01<00:00, 27.38it/s]\n",
      "100%|███████████████████████████████████████████| 49/49 [00:11<00:00,  4.35it/s]\n"
     ]
    },
    {
     "name": "stdout",
     "output_type": "stream",
     "text": [
      "Scrub completed.\n",
      "Summary of what happened:\n",
      "Input molecules supplied: 1\n",
      "mols processed: 1, skipped by rdkit: 0, failed: 0\n",
      "nr isomers (tautomers and acid/base conjugates): 1 (avg. 1.000 per mol)\n",
      "nr conformers:  1 (avg. 1.000 per isomer, 1.000 per mol)\n"
     ]
    },
    {
     "name": "stderr",
     "output_type": "stream",
     "text": [
      "/opt/anaconda3/envs/molpert/lib/python3.10/site-packages/prody/utilities/misctools.py:424: UserWarning: pkg_resources is deprecated as an API. See https://setuptools.pypa.io/en/latest/pkg_resources.html. The pkg_resources package is slated for removal as early as 2025-11-30. Refrain from using this package or pin to Setuptools<81.\n",
      "  import pkg_resources\n"
     ]
    },
    {
     "name": "stdout",
     "output_type": "stream",
     "text": [
      "Input molecules processed: 1, skipped: 0\n",
      "PDBQT files written: 1\n",
      "PDBQT files not written due to error: 0\n",
      "Input molecules with errors: 0\n",
      "No duplicate molecule molecule names were found\n"
     ]
    },
    {
     "name": "stderr",
     "output_type": "stream",
     "text": [
      "/opt/anaconda3/envs/molpert/lib/python3.10/site-packages/prody/utilities/misctools.py:424: UserWarning: pkg_resources is deprecated as an API. See https://setuptools.pypa.io/en/latest/pkg_resources.html. The pkg_resources package is slated for removal as early as 2025-11-30. Refrain from using this package or pin to Setuptools<81.\n",
      "  import pkg_resources\n"
     ]
    },
    {
     "name": "stdout",
     "output_type": "stream",
     "text": [
      "Input molecules processed: 1, skipped: 0\n",
      "PDBQT files written: 1\n",
      "PDBQT files not written due to error: 0\n",
      "Input molecules with errors: 0\n",
      "Scrub completed.\n",
      "Summary of what happened:\n",
      "Input molecules supplied: 1\n",
      "mols processed: 1, skipped by rdkit: 0, failed: 0\n",
      "nr isomers (tautomers and acid/base conjugates): 1 (avg. 1.000 per mol)\n",
      "nr conformers:  1 (avg. 1.000 per isomer, 1.000 per mol)\n"
     ]
    },
    {
     "name": "stderr",
     "output_type": "stream",
     "text": [
      "/opt/anaconda3/envs/molpert/lib/python3.10/site-packages/prody/utilities/misctools.py:424: UserWarning: pkg_resources is deprecated as an API. See https://setuptools.pypa.io/en/latest/pkg_resources.html. The pkg_resources package is slated for removal as early as 2025-11-30. Refrain from using this package or pin to Setuptools<81.\n",
      "  import pkg_resources\n"
     ]
    },
    {
     "name": "stdout",
     "output_type": "stream",
     "text": [
      "Input molecules processed: 1, skipped: 0\n",
      "PDBQT files written: 1\n",
      "PDBQT files not written due to error: 0\n",
      "Input molecules with errors: 0\n",
      "No duplicate molecule molecule names were found\n"
     ]
    },
    {
     "name": "stderr",
     "output_type": "stream",
     "text": [
      "/opt/anaconda3/envs/molpert/lib/python3.10/site-packages/prody/utilities/misctools.py:424: UserWarning: pkg_resources is deprecated as an API. See https://setuptools.pypa.io/en/latest/pkg_resources.html. The pkg_resources package is slated for removal as early as 2025-11-30. Refrain from using this package or pin to Setuptools<81.\n",
      "  import pkg_resources\n"
     ]
    },
    {
     "name": "stdout",
     "output_type": "stream",
     "text": [
      "Input molecules processed: 1, skipped: 0\n",
      "PDBQT files written: 1\n",
      "PDBQT files not written due to error: 0\n",
      "Input molecules with errors: 0\n",
      "Scrub completed.\n",
      "Summary of what happened:\n",
      "Input molecules supplied: 1\n",
      "mols processed: 1, skipped by rdkit: 0, failed: 0\n",
      "nr isomers (tautomers and acid/base conjugates): 1 (avg. 1.000 per mol)\n",
      "nr conformers:  1 (avg. 1.000 per isomer, 1.000 per mol)\n"
     ]
    },
    {
     "name": "stderr",
     "output_type": "stream",
     "text": [
      "/opt/anaconda3/envs/molpert/lib/python3.10/site-packages/prody/utilities/misctools.py:424: UserWarning: pkg_resources is deprecated as an API. See https://setuptools.pypa.io/en/latest/pkg_resources.html. The pkg_resources package is slated for removal as early as 2025-11-30. Refrain from using this package or pin to Setuptools<81.\n",
      "  import pkg_resources\n"
     ]
    },
    {
     "name": "stdout",
     "output_type": "stream",
     "text": [
      "Input molecules processed: 1, skipped: 0\n",
      "PDBQT files written: 1\n",
      "PDBQT files not written due to error: 0\n",
      "Input molecules with errors: 0\n",
      "No duplicate molecule molecule names were found\n"
     ]
    },
    {
     "name": "stderr",
     "output_type": "stream",
     "text": [
      "/opt/anaconda3/envs/molpert/lib/python3.10/site-packages/prody/utilities/misctools.py:424: UserWarning: pkg_resources is deprecated as an API. See https://setuptools.pypa.io/en/latest/pkg_resources.html. The pkg_resources package is slated for removal as early as 2025-11-30. Refrain from using this package or pin to Setuptools<81.\n",
      "  import pkg_resources\n"
     ]
    },
    {
     "name": "stdout",
     "output_type": "stream",
     "text": [
      "Input molecules processed: 1, skipped: 0\n",
      "PDBQT files written: 1\n",
      "PDBQT files not written due to error: 0\n",
      "Input molecules with errors: 0\n",
      "Scrub completed.\n",
      "Summary of what happened:\n",
      "Input molecules supplied: 1\n",
      "mols processed: 1, skipped by rdkit: 0, failed: 0\n",
      "nr isomers (tautomers and acid/base conjugates): 1 (avg. 1.000 per mol)\n",
      "nr conformers:  1 (avg. 1.000 per isomer, 1.000 per mol)\n"
     ]
    },
    {
     "name": "stderr",
     "output_type": "stream",
     "text": [
      "/opt/anaconda3/envs/molpert/lib/python3.10/site-packages/prody/utilities/misctools.py:424: UserWarning: pkg_resources is deprecated as an API. See https://setuptools.pypa.io/en/latest/pkg_resources.html. The pkg_resources package is slated for removal as early as 2025-11-30. Refrain from using this package or pin to Setuptools<81.\n",
      "  import pkg_resources\n"
     ]
    },
    {
     "name": "stdout",
     "output_type": "stream",
     "text": [
      "Input molecules processed: 1, skipped: 0\n",
      "PDBQT files written: 1\n",
      "PDBQT files not written due to error: 0\n",
      "Input molecules with errors: 0\n",
      "No duplicate molecule molecule names were found\n"
     ]
    },
    {
     "name": "stderr",
     "output_type": "stream",
     "text": [
      "/opt/anaconda3/envs/molpert/lib/python3.10/site-packages/prody/utilities/misctools.py:424: UserWarning: pkg_resources is deprecated as an API. See https://setuptools.pypa.io/en/latest/pkg_resources.html. The pkg_resources package is slated for removal as early as 2025-11-30. Refrain from using this package or pin to Setuptools<81.\n",
      "  import pkg_resources\n"
     ]
    },
    {
     "name": "stdout",
     "output_type": "stream",
     "text": [
      "Input molecules processed: 1, skipped: 0\n",
      "PDBQT files written: 1\n",
      "PDBQT files not written due to error: 0\n",
      "Input molecules with errors: 0\n",
      "Scrub completed.\n",
      "Summary of what happened:\n",
      "Input molecules supplied: 1\n",
      "mols processed: 1, skipped by rdkit: 0, failed: 0\n",
      "nr isomers (tautomers and acid/base conjugates): 2 (avg. 2.000 per mol)\n",
      "nr conformers:  2 (avg. 1.000 per isomer, 2.000 per mol)\n"
     ]
    },
    {
     "name": "stderr",
     "output_type": "stream",
     "text": [
      "/opt/anaconda3/envs/molpert/lib/python3.10/site-packages/prody/utilities/misctools.py:424: UserWarning: pkg_resources is deprecated as an API. See https://setuptools.pypa.io/en/latest/pkg_resources.html. The pkg_resources package is slated for removal as early as 2025-11-30. Refrain from using this package or pin to Setuptools<81.\n",
      "  import pkg_resources\n"
     ]
    },
    {
     "name": "stdout",
     "output_type": "stream",
     "text": [
      "Input molecules processed: 2, skipped: 0\n",
      "PDBQT files written: 2\n",
      "PDBQT files not written due to error: 0\n",
      "Input molecules with errors: 0\n",
      "No duplicate molecule molecule names were found\n"
     ]
    },
    {
     "name": "stderr",
     "output_type": "stream",
     "text": [
      "/opt/anaconda3/envs/molpert/lib/python3.10/site-packages/prody/utilities/misctools.py:424: UserWarning: pkg_resources is deprecated as an API. See https://setuptools.pypa.io/en/latest/pkg_resources.html. The pkg_resources package is slated for removal as early as 2025-11-30. Refrain from using this package or pin to Setuptools<81.\n",
      "  import pkg_resources\n"
     ]
    },
    {
     "name": "stdout",
     "output_type": "stream",
     "text": [
      "Processed only the first molecule of multiple molecule input.\n",
      "Use --multimol_prefix and/or --multimol_outdir to process all molecules in epoch_1_lig_47.sdf.\n",
      "Input molecules processed: 1, skipped: 0\n",
      "PDBQT files written: 1\n",
      "PDBQT files not written due to error: 0\n",
      "Input molecules with errors: 0\n",
      "Scrub completed.\n",
      "Summary of what happened:\n",
      "Input molecules supplied: 1\n",
      "mols processed: 1, skipped by rdkit: 0, failed: 0\n",
      "nr isomers (tautomers and acid/base conjugates): 1 (avg. 1.000 per mol)\n",
      "nr conformers:  1 (avg. 1.000 per isomer, 1.000 per mol)\n"
     ]
    },
    {
     "name": "stderr",
     "output_type": "stream",
     "text": [
      "/opt/anaconda3/envs/molpert/lib/python3.10/site-packages/prody/utilities/misctools.py:424: UserWarning: pkg_resources is deprecated as an API. See https://setuptools.pypa.io/en/latest/pkg_resources.html. The pkg_resources package is slated for removal as early as 2025-11-30. Refrain from using this package or pin to Setuptools<81.\n",
      "  import pkg_resources\n"
     ]
    },
    {
     "name": "stdout",
     "output_type": "stream",
     "text": [
      "Input molecules processed: 1, skipped: 0\n",
      "PDBQT files written: 1\n",
      "PDBQT files not written due to error: 0\n",
      "Input molecules with errors: 0\n",
      "No duplicate molecule molecule names were found\n"
     ]
    },
    {
     "name": "stderr",
     "output_type": "stream",
     "text": [
      "/opt/anaconda3/envs/molpert/lib/python3.10/site-packages/prody/utilities/misctools.py:424: UserWarning: pkg_resources is deprecated as an API. See https://setuptools.pypa.io/en/latest/pkg_resources.html. The pkg_resources package is slated for removal as early as 2025-11-30. Refrain from using this package or pin to Setuptools<81.\n",
      "  import pkg_resources\n"
     ]
    },
    {
     "name": "stdout",
     "output_type": "stream",
     "text": [
      "Input molecules processed: 1, skipped: 0\n",
      "PDBQT files written: 1\n",
      "PDBQT files not written due to error: 0\n",
      "Input molecules with errors: 0\n"
     ]
    },
    {
     "name": "stderr",
     "output_type": "stream",
     "text": [
      "{'INITIAL_COORDS': 390, 'CHECK_TETRAHEDRAL_CENTERS': 9, 'ETK_MINIMIZATION': 191}\n"
     ]
    },
    {
     "name": "stdout",
     "output_type": "stream",
     "text": [
      "Scrub completed.\n",
      "Summary of what happened:\n",
      "Input molecules supplied: 1\n",
      "mols processed: 0, skipped by rdkit: 0, failed: 1\n"
     ]
    },
    {
     "name": "stderr",
     "output_type": "stream",
     "text": [
      "/opt/anaconda3/envs/molpert/lib/python3.10/site-packages/prody/utilities/misctools.py:424: UserWarning: pkg_resources is deprecated as an API. See https://setuptools.pypa.io/en/latest/pkg_resources.html. The pkg_resources package is slated for removal as early as 2025-11-30. Refrain from using this package or pin to Setuptools<81.\n",
      "  import pkg_resources\n",
      "Traceback (most recent call last):\n",
      "  File \"/opt/anaconda3/envs/molpert/bin/mk_prepare_ligand.py\", line 10, in <module>\n",
      "    sys.exit(main())\n",
      "  File \"/opt/anaconda3/envs/molpert/lib/python3.10/site-packages/meeko/cli/mk_prepare_ligand.py\", line 516, in main\n",
      "    mol_supplier = parsers[ext](\n",
      "OSError: File error: Invalid input file epoch_1_lig_4.sdf\n"
     ]
    },
    {
     "name": "stdout",
     "output_type": "stream",
     "text": [
      "Skipping epoch_1_lig_4 due to error: Command '['sh', 'script/prepare_ligand.sh', 'epoch_1_lig_4', 'Cc1[nH]c2cc3ccc2c1CCN[C@H](C(O)Cc1ccccc1)C3c1ccccc1']' returned non-zero exit status 1.\n",
      "Scrub completed.\n",
      "Summary of what happened:\n",
      "Input molecules supplied: 1\n",
      "mols processed: 1, skipped by rdkit: 0, failed: 0\n",
      "nr isomers (tautomers and acid/base conjugates): 2 (avg. 2.000 per mol)\n",
      "nr conformers:  2 (avg. 1.000 per isomer, 2.000 per mol)\n"
     ]
    },
    {
     "name": "stderr",
     "output_type": "stream",
     "text": [
      "/opt/anaconda3/envs/molpert/lib/python3.10/site-packages/prody/utilities/misctools.py:424: UserWarning: pkg_resources is deprecated as an API. See https://setuptools.pypa.io/en/latest/pkg_resources.html. The pkg_resources package is slated for removal as early as 2025-11-30. Refrain from using this package or pin to Setuptools<81.\n",
      "  import pkg_resources\n"
     ]
    },
    {
     "name": "stdout",
     "output_type": "stream",
     "text": [
      "Input molecules processed: 2, skipped: 0\n",
      "PDBQT files written: 2\n",
      "PDBQT files not written due to error: 0\n",
      "Input molecules with errors: 0\n",
      "No duplicate molecule molecule names were found\n"
     ]
    },
    {
     "name": "stderr",
     "output_type": "stream",
     "text": [
      "/opt/anaconda3/envs/molpert/lib/python3.10/site-packages/prody/utilities/misctools.py:424: UserWarning: pkg_resources is deprecated as an API. See https://setuptools.pypa.io/en/latest/pkg_resources.html. The pkg_resources package is slated for removal as early as 2025-11-30. Refrain from using this package or pin to Setuptools<81.\n",
      "  import pkg_resources\n"
     ]
    },
    {
     "name": "stdout",
     "output_type": "stream",
     "text": [
      "Processed only the first molecule of multiple molecule input.\n",
      "Use --multimol_prefix and/or --multimol_outdir to process all molecules in epoch_1_lig_95.sdf.\n",
      "Input molecules processed: 1, skipped: 0\n",
      "PDBQT files written: 1\n",
      "PDBQT files not written due to error: 0\n",
      "Input molecules with errors: 0\n",
      "Scrub completed.\n",
      "Summary of what happened:\n",
      "Input molecules supplied: 1\n",
      "mols processed: 1, skipped by rdkit: 0, failed: 0\n",
      "nr isomers (tautomers and acid/base conjugates): 1 (avg. 1.000 per mol)\n",
      "nr conformers:  1 (avg. 1.000 per isomer, 1.000 per mol)\n"
     ]
    },
    {
     "name": "stderr",
     "output_type": "stream",
     "text": [
      "/opt/anaconda3/envs/molpert/lib/python3.10/site-packages/prody/utilities/misctools.py:424: UserWarning: pkg_resources is deprecated as an API. See https://setuptools.pypa.io/en/latest/pkg_resources.html. The pkg_resources package is slated for removal as early as 2025-11-30. Refrain from using this package or pin to Setuptools<81.\n",
      "  import pkg_resources\n"
     ]
    },
    {
     "name": "stdout",
     "output_type": "stream",
     "text": [
      "Input molecules processed: 1, skipped: 0\n",
      "PDBQT files written: 1\n",
      "PDBQT files not written due to error: 0\n",
      "Input molecules with errors: 0\n",
      "No duplicate molecule molecule names were found\n"
     ]
    },
    {
     "name": "stderr",
     "output_type": "stream",
     "text": [
      "/opt/anaconda3/envs/molpert/lib/python3.10/site-packages/prody/utilities/misctools.py:424: UserWarning: pkg_resources is deprecated as an API. See https://setuptools.pypa.io/en/latest/pkg_resources.html. The pkg_resources package is slated for removal as early as 2025-11-30. Refrain from using this package or pin to Setuptools<81.\n",
      "  import pkg_resources\n"
     ]
    },
    {
     "name": "stdout",
     "output_type": "stream",
     "text": [
      "Input molecules processed: 1, skipped: 0\n",
      "PDBQT files written: 1\n",
      "PDBQT files not written due to error: 0\n",
      "Input molecules with errors: 0\n",
      "Scrub completed.\n",
      "Summary of what happened:\n",
      "Input molecules supplied: 1\n",
      "mols processed: 1, skipped by rdkit: 0, failed: 0\n",
      "nr isomers (tautomers and acid/base conjugates): 1 (avg. 1.000 per mol)\n",
      "nr conformers:  1 (avg. 1.000 per isomer, 1.000 per mol)\n"
     ]
    },
    {
     "name": "stderr",
     "output_type": "stream",
     "text": [
      "/opt/anaconda3/envs/molpert/lib/python3.10/site-packages/prody/utilities/misctools.py:424: UserWarning: pkg_resources is deprecated as an API. See https://setuptools.pypa.io/en/latest/pkg_resources.html. The pkg_resources package is slated for removal as early as 2025-11-30. Refrain from using this package or pin to Setuptools<81.\n",
      "  import pkg_resources\n"
     ]
    },
    {
     "name": "stdout",
     "output_type": "stream",
     "text": [
      "Input molecules processed: 1, skipped: 0\n",
      "PDBQT files written: 1\n",
      "PDBQT files not written due to error: 0\n",
      "Input molecules with errors: 0\n",
      "No duplicate molecule molecule names were found\n"
     ]
    },
    {
     "name": "stderr",
     "output_type": "stream",
     "text": [
      "/opt/anaconda3/envs/molpert/lib/python3.10/site-packages/prody/utilities/misctools.py:424: UserWarning: pkg_resources is deprecated as an API. See https://setuptools.pypa.io/en/latest/pkg_resources.html. The pkg_resources package is slated for removal as early as 2025-11-30. Refrain from using this package or pin to Setuptools<81.\n",
      "  import pkg_resources\n"
     ]
    },
    {
     "name": "stdout",
     "output_type": "stream",
     "text": [
      "Input molecules processed: 1, skipped: 0\n",
      "PDBQT files written: 1\n",
      "PDBQT files not written due to error: 0\n",
      "Input molecules with errors: 0\n",
      "Scrub completed.\n",
      "Summary of what happened:\n",
      "Input molecules supplied: 1\n",
      "mols processed: 1, skipped by rdkit: 0, failed: 0\n",
      "nr isomers (tautomers and acid/base conjugates): 2 (avg. 2.000 per mol)\n",
      "nr conformers:  2 (avg. 1.000 per isomer, 2.000 per mol)\n"
     ]
    },
    {
     "name": "stderr",
     "output_type": "stream",
     "text": [
      "/opt/anaconda3/envs/molpert/lib/python3.10/site-packages/prody/utilities/misctools.py:424: UserWarning: pkg_resources is deprecated as an API. See https://setuptools.pypa.io/en/latest/pkg_resources.html. The pkg_resources package is slated for removal as early as 2025-11-30. Refrain from using this package or pin to Setuptools<81.\n",
      "  import pkg_resources\n"
     ]
    },
    {
     "name": "stdout",
     "output_type": "stream",
     "text": [
      "Input molecules processed: 2, skipped: 0\n",
      "PDBQT files written: 2\n",
      "PDBQT files not written due to error: 0\n",
      "Input molecules with errors: 0\n",
      "No duplicate molecule molecule names were found\n"
     ]
    },
    {
     "name": "stderr",
     "output_type": "stream",
     "text": [
      "/opt/anaconda3/envs/molpert/lib/python3.10/site-packages/prody/utilities/misctools.py:424: UserWarning: pkg_resources is deprecated as an API. See https://setuptools.pypa.io/en/latest/pkg_resources.html. The pkg_resources package is slated for removal as early as 2025-11-30. Refrain from using this package or pin to Setuptools<81.\n",
      "  import pkg_resources\n"
     ]
    },
    {
     "name": "stdout",
     "output_type": "stream",
     "text": [
      "Processed only the first molecule of multiple molecule input.\n",
      "Use --multimol_prefix and/or --multimol_outdir to process all molecules in epoch_1_lig_43.sdf.\n",
      "Input molecules processed: 1, skipped: 0\n",
      "PDBQT files written: 1\n",
      "PDBQT files not written due to error: 0\n",
      "Input molecules with errors: 0\n"
     ]
    },
    {
     "name": "stderr",
     "output_type": "stream",
     "text": [
      "{'INITIAL_COORDS': 259, 'ETK_MINIMIZATION': 201}\n"
     ]
    },
    {
     "name": "stdout",
     "output_type": "stream",
     "text": [
      "Scrub completed.\n",
      "Summary of what happened:\n",
      "Input molecules supplied: 1\n",
      "mols processed: 0, skipped by rdkit: 0, failed: 1\n"
     ]
    },
    {
     "name": "stderr",
     "output_type": "stream",
     "text": [
      "/opt/anaconda3/envs/molpert/lib/python3.10/site-packages/prody/utilities/misctools.py:424: UserWarning: pkg_resources is deprecated as an API. See https://setuptools.pypa.io/en/latest/pkg_resources.html. The pkg_resources package is slated for removal as early as 2025-11-30. Refrain from using this package or pin to Setuptools<81.\n",
      "  import pkg_resources\n",
      "Traceback (most recent call last):\n",
      "  File \"/opt/anaconda3/envs/molpert/bin/mk_prepare_ligand.py\", line 10, in <module>\n",
      "    sys.exit(main())\n",
      "  File \"/opt/anaconda3/envs/molpert/lib/python3.10/site-packages/meeko/cli/mk_prepare_ligand.py\", line 516, in main\n",
      "    mol_supplier = parsers[ext](\n",
      "OSError: File error: Invalid input file epoch_1_lig_23.sdf\n"
     ]
    },
    {
     "name": "stdout",
     "output_type": "stream",
     "text": [
      "Skipping epoch_1_lig_23 due to error: Command '['sh', 'script/prepare_ligand.sh', 'epoch_1_lig_23', 'CC(C=Cc1ccccc1)(c1ccccc1)C12c3cc(C4=CC4)cc1c32']' returned non-zero exit status 1.\n",
      "Scrub completed.\n",
      "Summary of what happened:\n",
      "Input molecules supplied: 1\n",
      "mols processed: 1, skipped by rdkit: 0, failed: 0\n",
      "nr isomers (tautomers and acid/base conjugates): 1 (avg. 1.000 per mol)\n",
      "nr conformers:  1 (avg. 1.000 per isomer, 1.000 per mol)\n"
     ]
    },
    {
     "name": "stderr",
     "output_type": "stream",
     "text": [
      "/opt/anaconda3/envs/molpert/lib/python3.10/site-packages/prody/utilities/misctools.py:424: UserWarning: pkg_resources is deprecated as an API. See https://setuptools.pypa.io/en/latest/pkg_resources.html. The pkg_resources package is slated for removal as early as 2025-11-30. Refrain from using this package or pin to Setuptools<81.\n",
      "  import pkg_resources\n"
     ]
    },
    {
     "name": "stdout",
     "output_type": "stream",
     "text": [
      "Input molecules processed: 1, skipped: 0\n",
      "PDBQT files written: 1\n",
      "PDBQT files not written due to error: 0\n",
      "Input molecules with errors: 0\n",
      "No duplicate molecule molecule names were found\n"
     ]
    },
    {
     "name": "stderr",
     "output_type": "stream",
     "text": [
      "/opt/anaconda3/envs/molpert/lib/python3.10/site-packages/prody/utilities/misctools.py:424: UserWarning: pkg_resources is deprecated as an API. See https://setuptools.pypa.io/en/latest/pkg_resources.html. The pkg_resources package is slated for removal as early as 2025-11-30. Refrain from using this package or pin to Setuptools<81.\n",
      "  import pkg_resources\n"
     ]
    },
    {
     "name": "stdout",
     "output_type": "stream",
     "text": [
      "Input molecules processed: 1, skipped: 0\n",
      "PDBQT files written: 1\n",
      "PDBQT files not written due to error: 0\n",
      "Input molecules with errors: 0\n"
     ]
    },
    {
     "name": "stderr",
     "output_type": "stream",
     "text": [
      "0it [00:00, ?it/s]"
     ]
    },
    {
     "name": "stdout",
     "output_type": "stream",
     "text": [
      "Docking: epoch_1_lig_43-2\n"
     ]
    },
    {
     "name": "stderr",
     "output_type": "stream",
     "text": [
      "WARNING: At low exhaustiveness, it may be impossible to utilize all CPUs.\n"
     ]
    },
    {
     "name": "stdout",
     "output_type": "stream",
     "text": [
      "Performing docking (random seed: -236248410) ... "
     ]
    },
    {
     "name": "stderr",
     "output_type": "stream",
     "text": [
      "1it [00:04,  4.12s/it]"
     ]
    },
    {
     "name": "stdout",
     "output_type": "stream",
     "text": [
      "\n",
      "0%   10   20   30   40   50   60   70   80   90   100%\n",
      "|----|----|----|----|----|----|----|----|----|----|\n",
      "***************************************************\n",
      "\n",
      "mode |   affinity | dist from best mode\n",
      "     | (kcal/mol) | rmsd l.b.| rmsd u.b.\n",
      "-----+------------+----------+----------\n",
      "   1       -6.088          0          0\n",
      "   2       -5.919      8.624      10.42\n",
      "   3       -5.881      2.417      6.615\n",
      "   4       -5.782      3.844      7.722\n",
      "   5       -5.729      8.046      10.05\n",
      "   6       -5.725      3.365      5.429\n",
      "   7       -5.646      2.845      3.667\n",
      "   8       -5.248      2.352       6.38\n",
      "   9       -4.991      2.013      2.647\n",
      "  10       -4.958      4.171      5.548\n",
      "  11       -4.847       4.66      7.725\n",
      "  12       -4.807      6.405      7.866\n",
      "  13       -4.667      8.509      10.01\n",
      "  14        -4.61      4.736      6.662\n",
      "  15       -4.379      4.637      7.038\n",
      "  16        -4.31      8.046      9.794\n",
      "  17       -4.278      3.643      5.799\n",
      "  18       -4.271      4.168      5.438\n",
      "  19       -4.271      8.639      10.42\n",
      "  20       -3.973      2.678      6.345\n",
      "Performing local search ... done.\n",
      "Docking: epoch_1_lig_76-1\n",
      "Performing docking (random seed: -236248410) ... "
     ]
    },
    {
     "name": "stderr",
     "output_type": "stream",
     "text": [
      "WARNING: At low exhaustiveness, it may be impossible to utilize all CPUs.\n",
      "2it [00:35, 20.19s/it]"
     ]
    },
    {
     "name": "stdout",
     "output_type": "stream",
     "text": [
      "\n",
      "0%   10   20   30   40   50   60   70   80   90   100%\n",
      "|----|----|----|----|----|----|----|----|----|----|\n",
      "***************************************************\n",
      "\n",
      "mode |   affinity | dist from best mode\n",
      "     | (kcal/mol) | rmsd l.b.| rmsd u.b.\n",
      "-----+------------+----------+----------\n",
      "   1       -7.097          0          0\n",
      "   2       -6.783      2.531      4.237\n",
      "   3       -6.717      2.507      3.812\n",
      "   4        -6.65      2.352      4.095\n",
      "   5       -6.577      2.605      4.246\n",
      "   6       -6.403      2.883       3.98\n",
      "   7       -6.332      2.443      3.214\n",
      "   8       -6.247      2.924      3.803\n",
      "   9       -6.192      3.307      8.849\n",
      "  10       -6.191      4.099      7.237\n",
      "  11       -6.164       3.48      6.546\n",
      "  12       -6.066      3.393      5.275\n",
      "  13       -6.031      3.487      6.001\n",
      "  14       -5.994      3.176      5.661\n",
      "  15        -5.95      4.084      7.384\n",
      "  16       -5.881      3.946      6.954\n",
      "  17       -5.866      3.895      6.715\n",
      "  18       -5.862       3.27      6.2Docking: epoch_1_lig_43-1\n",
      "75\n",
      "  19       -5.861      3.166      6.789\n",
      "  20       -5.691      4.261      7.117\n",
      "Performing local search ... done.\n",
      "Performing docking (random seed: -236248410) ... \n",
      "0%   10   20   30   40   50   60   70   80   90   100%\n",
      "|----|----|----|----|----|----|----|----|----|----|\n",
      "***************************************************\n",
      "\n",
      "mode |   affinity | dist from best mode\n",
      "     | (kcal/mol) | rmsd l.b.| rmsd u.b.\n",
      "-----+------------+----------+----------\n",
      "   1        -6.19          0          0\n",
      "   2       -6.147      8.128      10.57\n",
      "   3        -5.97      7.505      10.74\n",
      "   4       -5.835      9.057      10.37\n",
      "   5       -5.733      2.574      5.665\n",
      "   6       -5.582      2.232      5.854\n",
      "   7       -5.549      2.083      4.993\n",
      "   8       -5.544      6.725      9.248\n",
      "   9       -5.462      7.444      10.57\n",
      "  10       -5.438      2.736      4.266\n",
      "  11       -5.413      2.122      5.863\n",
      "  12        -5.38      6.729      8.526\n",
      "  13       -5.336      8.607      10.73\n",
      "  14       -5.246      1.933      6.042\n",
      "  15       -5.119      6.966      9.962\n",
      "  16       -5.105      6.352      9.253\n",
      "  17       -5.056      1.759"
     ]
    },
    {
     "name": "stderr",
     "output_type": "stream",
     "text": [
      "WARNING: At low exhaustiveness, it may be impossible to utilize all CPUs.\n",
      "3it [00:39, 12.86s/it]"
     ]
    },
    {
     "name": "stdout",
     "output_type": "stream",
     "text": [
      "       3.53\n",
      "  18       -4.955      7.387      9.392\n",
      "  19       -4.508      4.772      7.075\n",
      "  20       -4.482      5.736      8.294\n",
      "Performing local search ... done.\n",
      "Docking: epoch_1_lig_60-1\n"
     ]
    },
    {
     "name": "stderr",
     "output_type": "stream",
     "text": [
      "WARNING: At low exhaustiveness, it may be impossible to utilize all CPUs.\n"
     ]
    },
    {
     "name": "stdout",
     "output_type": "stream",
     "text": [
      "Performing docking (random seed: -236248410) ... "
     ]
    },
    {
     "name": "stderr",
     "output_type": "stream",
     "text": [
      "4it [01:02, 16.94s/it]WARNING: At low exhaustiveness, it may be impossible to utilize all CPUs.\n"
     ]
    },
    {
     "name": "stdout",
     "output_type": "stream",
     "text": [
      "\n",
      "0%   10   20   30   40   50   60   70   80   90   100%\n",
      "|----|----|----|----|----|----|----|----|----|----|\n",
      "***************************************************\n",
      "\n",
      "mode |   affinity | dist from best mode\n",
      "     | (kcal/mol) | rmsd l.b.| rmsd u.b.\n",
      "-----+------------+----------+----------\n",
      "   1       -6.981          0          0\n",
      "   2       -6.884      2.017      2.669\n",
      "   3       -6.763      1.689      3.064\n",
      "   4       -6.634       2.23      3.086\n",
      "   5       -6.479       5.89      8.153\n",
      "   6       -6.445      5.584       7.65\n",
      "   7       -6.374      2.888      3.867\n",
      "   8       -6.332      1.872      3.386\n",
      "   9       -6.238      5.105      7.771\n",
      "  10       -6.201      3.385      4.239\n",
      "  11       -6.184      3.281      4.515\n",
      "  12       -6.064      4.715      7.679\n",
      "  13       -6.059      5.543      7.594\n",
      "  14       -6.005      5.092      7.067\n",
      "  15       -5.959      3.249       4.54\n",
      "  16       -5.921      3.464      4.305\n",
      "  17       -5.865      5.063      8.109\n",
      "  18       -5.739      2.006      3.384\n",
      "  19       -5.641       5.44      7.397\n",
      "  20       -5.558      3.933      6.129\n",
      "Performing local search ... done.\n",
      "Docking: epoch_1_lig_12-1\n",
      "Performing docking (random seed: -236248410) ... "
     ]
    },
    {
     "name": "stderr",
     "output_type": "stream",
     "text": [
      "5it [01:07, 12.53s/it]"
     ]
    },
    {
     "name": "stdout",
     "output_type": "stream",
     "text": [
      "\n",
      "0%   10   20   30   40   50   60   70   80   90   100%\n",
      "|----|----|----|----|----|----|----|----|----|----|\n",
      "***************************************************\n",
      "\n",
      "mode |   affinity | dist from best mode\n",
      "     | (kcal/mol) | rmsd l.b.| rmsd u.b.\n",
      "-----+------------+----------+----------\n",
      "   1       -8.333          0          0\n",
      "   2       -7.942      2.877      6.901\n",
      "   3       -7.924      2.376      8.275\n",
      "   4       -7.881       2.64      5.779\n",
      "   5       -7.759      2.787      8.011\n",
      "   6       -7.738       1.82      2.814\n",
      "   7       -7.696      4.444      9.127\n",
      "   8        -7.64      3.481      7.512\n",
      "   9       -7.614      3.405      7.943\n",
      "  10        -7.59      3.042      4.414\n",
      "  11       -7.478      3.962      8.927\n",
      "  12       -7.438      3.189      5.634\n",
      "  13        -7.42      3.469      7.733\n",
      "  14       -7.418      3.457      9.402\n",
      "  15       -7.383      4.545      8.444\n",
      "  16       -7.371      4.035      7.653\n",
      "  17       -7.219      2.943      6.125\n",
      "  18       -7.088      5.604      10.25\n",
      "  19       -6.918      1.943      2.991\n",
      "  20       -6.894      3.576      7.725\n",
      "Performing local search ... done.\n",
      "Docking: epoch_1_lig_79-1\n",
      "Performing docking (random seed: -236248410) ... "
     ]
    },
    {
     "name": "stderr",
     "output_type": "stream",
     "text": [
      "WARNING: At low exhaustiveness, it may be impossible to utilize all CPUs.\n",
      "6it [01:38, 18.75s/it]"
     ]
    },
    {
     "name": "stdout",
     "output_type": "stream",
     "text": [
      "\n",
      "0%   10   20   30   40   50   60   70   80   90   100%\n",
      "|----|----|----|----|----|----|----|----|----|----|\n",
      "***************************************************\n",
      "\n",
      "mode |   affinity | dist from best mode\n",
      "     | (kcal/mol) | rmsd l.b.| rmsd u.b.\n",
      "-----+------------+----------+----------\n",
      "   1        -6.56          0          0\n",
      "   2        -6.51      3.312      4.968\n",
      "   3       -6.435      4.573       6.75\n",
      "   4       -6.419      3.382       8.38\n",
      "   5       -6.293      3.092      7.439\n",
      "   6       -6.131      5.147      10.23\n",
      "   7       -6.103      1.668      2.215\n",
      "   8       -5.935      3.006      4.559\n",
      "   9       -5.908      2.902      4.153\n",
      "  10       -5.895      4.898      7.655\n",
      "  11       -5.879      1.442      2.105\n",
      "  12       -5.838      5.309      10.65\n",
      "  13       -5.835      3.786      9.333\n",
      "  14       -5.833      2.674       3.58\n",
      "  15       -5.817      4.305      9.335\n",
      "  16        -5.81        4.9      8.124\n",
      "  17       -5.791      3.297      6.965\n",
      "  18       -5.742      4.593      8.092\n",
      "  19       -5.731      3.822      6.605\n",
      "  20       -5.546      3.608      7.176\n",
      "Performing local search ... done.\n",
      "Docking: epoch_1_lig_34-1\n"
     ]
    },
    {
     "name": "stderr",
     "output_type": "stream",
     "text": [
      "WARNING: At low exhaustiveness, it may be impossible to utilize all CPUs.\n",
      "7it [01:41, 13.76s/it]WARNING: At low exhaustiveness, it may be impossible to utilize all CPUs.\n"
     ]
    },
    {
     "name": "stdout",
     "output_type": "stream",
     "text": [
      "Performing docking (random seed: -236248410) ... \n",
      "0%   10   20   30   40   50   60   70   80   90   100%\n",
      "|----|----|----|----|----|----|----|----|----|----|\n",
      "***************************************************\n",
      "\n",
      "mode |   affinity | dist from best mode\n",
      "     | (kcal/mol) | rmsd l.b.| rmsd u.b.\n",
      "-----+------------+----------+----------\n",
      "   1       -8.225          0          0\n",
      "   2       -8.012     0.5355      1.499\n",
      "   3       -7.752      1.025      1.627\n",
      "   4       -7.575      7.539      10.41\n",
      "   5       -7.307      3.037      6.289\n",
      "   6       -7.174       2.62      4.719\n",
      "   7        -7.17      1.485      6.516\n",
      "   8       -7.147      2.452      4.056\n",
      "   9       -7.129      4.328      7.805\n",
      "  10       -6.986      2.872      5.367\n",
      "  11       -6.977      3.379      5.849\n",
      "  12       -6.936      1.564      2.392\n",
      "  13       -6.867      3.287      7.267\n",
      "  14       -6.815      3.239      7.013\n",
      "  15       -6.774      2.725      6.839\n",
      "  16       -6.696      2.453      6.929\n",
      "  17       -6.424      4.077      7.838\n",
      "  18       -6.305      2.839      6.7Docking: epoch_1_lig_47-1\n",
      "27\n",
      "  19        -6.17      4.529      8.906\n",
      "  20       -6.149      6.222      9.029\n",
      "Performing local search ... done.\n",
      "Performing docking (random seed: -236248410) ... \n",
      "0%   10   20   30   40   50   60   70   80   90   100%\n",
      "|----|----|----|----|----|----|----|----|----|----|\n",
      "***************************************************\n",
      "\n",
      "mode |   affinity | dist from best mode\n",
      "     | (kcal/mol) | rmsd l.b.| rmsd u.b.\n",
      "-----+------------+----------+----------\n",
      "   1       -4.762          0          0\n",
      "   2       -4.602      7.447      10.29\n",
      "   3       -4.587      4.131      5.989\n",
      "   4       -4.548      1.961      3.256\n",
      "   5       -4.516      2.329        4.2\n",
      "   6       -4.504      1.756      2.832\n",
      "   7       -4.498      1.887      4.211\n",
      "   8       -4.397      3.046      5.991\n",
      "   9       -4.377      2.443      5.526\n",
      "  10       -4.273      4.451      6.659\n",
      "  11       -4.235      3.012       5.33\n",
      "  12       -4.214      5.485      8.738\n",
      "  13       -4.194       2.39      4.349\n",
      "  14       -4.194      2.202      5.081\n",
      "  15       -4.186      4.268       7.66\n",
      "  16        -4.17      4.468      7.875\n",
      "  17       -4.076      1.965      2.926\n",
      "  18        -4.07      3.899        6.8\n",
      "  19       -4.067      2.515      3.859\n",
      "  20       -3.793      2.372      4.695\n",
      "Performing local search ... done.\n"
     ]
    },
    {
     "name": "stderr",
     "output_type": "stream",
     "text": [
      "8it [01:47, 11.23s/it]"
     ]
    },
    {
     "name": "stdout",
     "output_type": "stream",
     "text": [
      "Docking: epoch_1_lig_71-1\n",
      "Performing docking (random seed: -236248410) ... "
     ]
    },
    {
     "name": "stderr",
     "output_type": "stream",
     "text": [
      "WARNING: At low exhaustiveness, it may be impossible to utilize all CPUs.\n",
      "9it [02:13, 15.67s/it]"
     ]
    },
    {
     "name": "stdout",
     "output_type": "stream",
     "text": [
      "\n",
      "0%   10   20   30   40   50   60   70   80   90   100%\n",
      "|----|----|----|----|----|----|----|----|----|----|\n",
      "***************************************************\n",
      "\n",
      "mode |   affinity | dist from best mode\n",
      "     | (kcal/mol) | rmsd l.b.| rmsd u.b.\n",
      "-----+------------+----------+----------\n",
      "   1       -7.531          0          0\n",
      "   2       -7.051      3.581      5.194\n",
      "   3        -6.93      6.095      10.94\n",
      "   4       -6.775      4.603      7.283\n",
      "   5       -6.718       6.09      8.158\n",
      "   6       -6.701      5.596      10.16\n",
      "   7       -6.691      1.952      2.563\n",
      "   8       -6.675      5.603      8.422\n",
      "   9       -6.574      5.195      7.723\n",
      "  10       -6.539      5.808      8.418\n",
      "  11       -6.489      5.678      9.264\n",
      "  12       -6.473      5.913      8.787\n",
      "  13       -6.455      5.513      9.359\n",
      "  14       -6.453      2.636      4.563\n",
      "  15       -6.435      3.428      6.665\n",
      "  16       -6.401      2.198      2.768\n",
      "  17       -6.341       4.19      7.968\n",
      "  18       -6.309       3.85      6.437\n",
      "  19       -6.274      5.801      7.767\n",
      "  20       -6.154      4.994      6.838\n",
      "Performing local search ... done.\n",
      "Docking: epoch_1_lig_95-1\n"
     ]
    },
    {
     "name": "stderr",
     "output_type": "stream",
     "text": [
      "WARNING: At low exhaustiveness, it may be impossible to utilize all CPUs.\n",
      "10it [02:30, 16.10s/it]"
     ]
    },
    {
     "name": "stdout",
     "output_type": "stream",
     "text": [
      "Performing docking (random seed: -236248410) ... \n",
      "0%   10   20   30   40   50   60   70   80   90   100%\n",
      "|----|----|----|----|----|----|----|----|----|----|\n",
      "***************************************************\n",
      "\n",
      "mode |   affinity | dist from best mode\n",
      "     | (kcal/mol) | rmsd l.b.| rmsd u.b.\n",
      "-----+------------+----------+----------\n",
      "   1       -8.215          0          0\n",
      "   2        -8.16      1.888      4.077\n",
      "   3       -8.023      2.692      3.897\n",
      "   4       -8.014      2.187      4.039\n",
      "   5       -7.955      1.515       2.05\n",
      "   6       -7.952      3.148      5.359\n",
      "   7        -7.87      2.356      3.252\n",
      "   8       -7.785      3.373      4.862\n",
      "   9       -7.723      3.234       5.61\n",
      "  10       -7.697      4.046      7.871\n",
      "  11       -7.668      1.949      3.228\n",
      "  12       -7.495      3.253      5.655\n",
      "  13       -7.488      3.726      7.029\n",
      "  14       -7.471       3.32      6.963\n",
      "  15       -7.346      4.303      6.784\n",
      "  16       -7.337       4.24      6.748\n",
      "  17       -7.301       2.64      6.296\n",
      "  18       -7.298      2.969      6.798\n",
      "  19       -7.293      2.868      6.461\n",
      "  20       -7.233       5.94      7.917\n",
      "Performing local search ... done.\n",
      "Docking: epoch_1_lig_55-1\n"
     ]
    },
    {
     "name": "stderr",
     "output_type": "stream",
     "text": [
      "WARNING: At low exhaustiveness, it may be impossible to utilize all CPUs.\n",
      "11it [02:41, 14.52s/it]WARNING: At low exhaustiveness, it may be impossible to utilize all CPUs.\n"
     ]
    },
    {
     "name": "stdout",
     "output_type": "stream",
     "text": [
      "Performing docking (random seed: -236248410) ... \n",
      "0%   10   20   30   40   50   60   70   80   90   100%\n",
      "|----|----|----|----|----|----|----|----|----|----|\n",
      "***************************************************\n",
      "\n",
      "mode |   affinity | dist from best mode\n",
      "     | (kcal/mol) | rmsd l.b.| rmsd u.b.\n",
      "-----+------------+----------+----------\n",
      "   1        -9.22          0          0\n",
      "   2       -8.715      3.007      8.243\n",
      "   3       -8.641       3.34      8.216\n",
      "   4       -8.583       4.19      6.682\n",
      "   5       -8.502      5.049      8.516\n",
      "   6       -8.483      2.703      4.954\n",
      "   7       -8.482      3.466      8.175\n",
      "   8       -8.366       7.98       9.77\n",
      "   9        -8.32      1.477      3.814\n",
      "  10       -8.312      5.992       8.78\n",
      "  11       -8.194      5.523      10.63\n",
      "  12       -8.106      5.054      8.483\n",
      "  13       -8.021      5.302      8.533\n",
      "  14       -8.006       5.44      8.998\n",
      "  15       -7.991      3.851      8.665\n",
      "  16       -7.977       4.36      8.736\n",
      "  17        -7.96       2.97      7.916\n",
      "  18       -7.912      2.157      4.5Docking: epoch_1_lig_47-2\n",
      "93\n",
      "  19       -7.893      4.694      8.976\n",
      "  20       -7.797      7.459      8.868\n",
      "Performing local search ... done.\n",
      "Performing docking (random seed: -236248410) ... \n",
      "0%   10   20   30   40   50   60   70   80   90   100%\n",
      "|----|----|----|----|----|----|----|----|----|----|\n",
      "***************************************************\n",
      "\n",
      "mode |   affinity | dist from best mode\n",
      "     | (kcal/mol) | rmsd l.b.| rmsd u.b.\n",
      "-----+------------+----------+----------\n",
      "   1       -5.148          0          0\n",
      "   2       -4.843      1.467       2.33\n",
      "   3       -4.835      2.748      6.116\n",
      "   4       -4.805      3.514      6.345\n",
      "   5       -4.759      5.632       8.57\n",
      "   6       -4.664      3.686      6.235\n",
      "   7       -4.638      3.383      5.791\n",
      "   8        -4.43      3.086      5.843\n",
      "   9       -4.406      2.679      5.611\n",
      "  10       -4.382      4.945      7.051\n",
      "  11       -4.368       2.69       4.41\n",
      "  12        -4.34      2.346      3.835\n",
      "  13       -4.245      3.857      5.299\n",
      "  14       -4.214      5.699      9.073\n",
      "  15       -4.136      5.576       7.57\n",
      "  16       -4.106      2.854      5.722\n",
      "  17        -3.98      2.547       4.97\n",
      "  18       -3.958      4.692      6.854\n",
      "  19       -3.895      6.184      10.16\n",
      "  20       -3.887      7.289      9.525\n",
      "Performing local search ... done.\n"
     ]
    },
    {
     "name": "stderr",
     "output_type": "stream",
     "text": [
      "12it [02:47, 11.89s/it]"
     ]
    },
    {
     "name": "stdout",
     "output_type": "stream",
     "text": [
      "Docking: epoch_1_lig_95-2\n"
     ]
    },
    {
     "name": "stderr",
     "output_type": "stream",
     "text": [
      "WARNING: At low exhaustiveness, it may be impossible to utilize all CPUs.\n",
      "13it [03:04, 13.54s/it]"
     ]
    },
    {
     "name": "stdout",
     "output_type": "stream",
     "text": [
      "Performing docking (random seed: -236248410) ... \n",
      "0%   10   20   30   40   50   60   70   80   90   100%\n",
      "|----|----|----|----|----|----|----|----|----|----|\n",
      "***************************************************\n",
      "\n",
      "mode |   affinity | dist from best mode\n",
      "     | (kcal/mol) | rmsd l.b.| rmsd u.b.\n",
      "-----+------------+----------+----------\n",
      "   1       -8.144          0          0\n",
      "   2       -7.821       1.73      2.248\n",
      "   3       -7.761       1.91      2.567\n",
      "   4       -7.744      1.911      2.486\n",
      "   5       -7.726      2.126      3.276\n",
      "   6       -7.479      2.282      2.851\n",
      "   7       -7.406      4.137      6.928\n",
      "   8       -7.338      2.572      8.298\n",
      "   9       -7.315      3.515      9.086\n",
      "  10       -7.229      2.668      3.865\n",
      "  11       -7.143      3.185      4.209\n",
      "  12       -7.065      2.854      4.414\n",
      "  13       -6.929      3.981      9.681\n",
      "  14       -6.913      3.515      6.802\n",
      "  15       -6.913       4.06      6.326\n",
      "  16       -6.892      3.204      5.506\n",
      "  17       -6.853      4.112      7.894\n",
      "  18       -6.853      3.023      6.215\n",
      "  19       -6.798       2.54       5.65\n",
      "  20       -6.786      4.315      8.641\n",
      "Performing local search ... done.\n",
      "Docking: epoch_1_lig_19-1\n"
     ]
    },
    {
     "name": "stderr",
     "output_type": "stream",
     "text": [
      "WARNING: At low exhaustiveness, it may be impossible to utilize all CPUs.\n",
      "14it [03:06, 13.36s/it]\n"
     ]
    },
    {
     "name": "stdout",
     "output_type": "stream",
     "text": [
      "Performing docking (random seed: -236248410) ... \n",
      "0%   10   20   30   40   50   60   70   80   90   100%\n",
      "|----|----|----|----|----|----|----|----|----|----|\n",
      "***************************************************\n",
      "\n",
      "mode |   affinity | dist from best mode\n",
      "     | (kcal/mol) | rmsd l.b.| rmsd u.b.\n",
      "-----+------------+----------+----------\n",
      "   1       -8.178          0          0\n",
      "   2       -7.958      3.302      5.468\n",
      "   3       -7.932      2.364      8.028\n",
      "   4       -7.769      2.946      5.316\n",
      "   5       -7.743      1.831      2.799\n",
      "   6       -7.678      3.926      6.297\n",
      "   7       -7.595      3.771      8.219\n",
      "   8       -7.477      6.997      9.848\n",
      "   9       -7.349      6.863      9.019\n",
      "  10       -7.241        2.5      7.927\n",
      "  11       -7.116      2.048      2.515\n",
      "  12       -6.887      3.196      5.796\n",
      "  13       -6.694      1.899      2.713\n",
      "  14       -6.683      1.512      2.264\n",
      "  15       -6.621      4.182      5.357\n",
      "  16       -6.612      2.624      5.234\n",
      "  17        -6.58       6.39      8.433\n",
      "  18       -6.559      2.825       8.63\n",
      "  19       -6.518      2.491        4.6\n",
      "  20       -6.437      3.706       8.79\n",
      "Performing local search ... done.\n"
     ]
    },
    {
     "name": "stderr",
     "output_type": "stream",
     "text": [
      "100%|███████████████████████████████████████████| 49/49 [00:04<00:00, 10.82it/s]\n",
      "100%|████████████████████████████████████████████████████████████████████████████| 49/49 [00:04<00:00, 11.84it/s]\n"
     ]
    },
    {
     "name": "stdout",
     "output_type": "stream",
     "text": [
      "Scrub completed.\n",
      "Summary of what happened:\n",
      "Input molecules supplied: 1\n",
      "mols processed: 1, skipped by rdkit: 0, failed: 0\n",
      "nr isomers (tautomers and acid/base conjugates): 1 (avg. 1.000 per mol)\n",
      "nr conformers:  1 (avg. 1.000 per isomer, 1.000 per mol)\n"
     ]
    },
    {
     "name": "stderr",
     "output_type": "stream",
     "text": [
      "/opt/anaconda3/envs/molpert/lib/python3.10/site-packages/prody/utilities/misctools.py:424: UserWarning: pkg_resources is deprecated as an API. See https://setuptools.pypa.io/en/latest/pkg_resources.html. The pkg_resources package is slated for removal as early as 2025-11-30. Refrain from using this package or pin to Setuptools<81.\n",
      "  import pkg_resources\n"
     ]
    },
    {
     "name": "stdout",
     "output_type": "stream",
     "text": [
      "Input molecules processed: 1, skipped: 0\n",
      "PDBQT files written: 1\n",
      "PDBQT files not written due to error: 0\n",
      "Input molecules with errors: 0\n",
      "No duplicate molecule molecule names were found\n"
     ]
    },
    {
     "name": "stderr",
     "output_type": "stream",
     "text": [
      "/opt/anaconda3/envs/molpert/lib/python3.10/site-packages/prody/utilities/misctools.py:424: UserWarning: pkg_resources is deprecated as an API. See https://setuptools.pypa.io/en/latest/pkg_resources.html. The pkg_resources package is slated for removal as early as 2025-11-30. Refrain from using this package or pin to Setuptools<81.\n",
      "  import pkg_resources\n"
     ]
    },
    {
     "name": "stdout",
     "output_type": "stream",
     "text": [
      "Input molecules processed: 1, skipped: 0\n",
      "PDBQT files written: 1\n",
      "PDBQT files not written due to error: 0\n",
      "Input molecules with errors: 0\n",
      "Scrub completed.\n",
      "Summary of what happened:\n",
      "Input molecules supplied: 1\n",
      "mols processed: 1, skipped by rdkit: 0, failed: 0\n",
      "nr isomers (tautomers and acid/base conjugates): 1 (avg. 1.000 per mol)\n",
      "nr conformers:  1 (avg. 1.000 per isomer, 1.000 per mol)\n"
     ]
    },
    {
     "name": "stderr",
     "output_type": "stream",
     "text": [
      "/opt/anaconda3/envs/molpert/lib/python3.10/site-packages/prody/utilities/misctools.py:424: UserWarning: pkg_resources is deprecated as an API. See https://setuptools.pypa.io/en/latest/pkg_resources.html. The pkg_resources package is slated for removal as early as 2025-11-30. Refrain from using this package or pin to Setuptools<81.\n",
      "  import pkg_resources\n"
     ]
    },
    {
     "name": "stdout",
     "output_type": "stream",
     "text": [
      "Input molecules processed: 1, skipped: 0\n",
      "PDBQT files written: 1\n",
      "PDBQT files not written due to error: 0\n",
      "Input molecules with errors: 0\n",
      "No duplicate molecule molecule names were found\n"
     ]
    },
    {
     "name": "stderr",
     "output_type": "stream",
     "text": [
      "/opt/anaconda3/envs/molpert/lib/python3.10/site-packages/prody/utilities/misctools.py:424: UserWarning: pkg_resources is deprecated as an API. See https://setuptools.pypa.io/en/latest/pkg_resources.html. The pkg_resources package is slated for removal as early as 2025-11-30. Refrain from using this package or pin to Setuptools<81.\n",
      "  import pkg_resources\n"
     ]
    },
    {
     "name": "stdout",
     "output_type": "stream",
     "text": [
      "Input molecules processed: 1, skipped: 0\n",
      "PDBQT files written: 1\n",
      "PDBQT files not written due to error: 0\n",
      "Input molecules with errors: 0\n",
      "Scrub completed.\n",
      "Summary of what happened:\n",
      "Input molecules supplied: 1\n",
      "mols processed: 1, skipped by rdkit: 0, failed: 0\n",
      "nr isomers (tautomers and acid/base conjugates): 1 (avg. 1.000 per mol)\n",
      "nr conformers:  1 (avg. 1.000 per isomer, 1.000 per mol)\n"
     ]
    },
    {
     "name": "stderr",
     "output_type": "stream",
     "text": [
      "/opt/anaconda3/envs/molpert/lib/python3.10/site-packages/prody/utilities/misctools.py:424: UserWarning: pkg_resources is deprecated as an API. See https://setuptools.pypa.io/en/latest/pkg_resources.html. The pkg_resources package is slated for removal as early as 2025-11-30. Refrain from using this package or pin to Setuptools<81.\n",
      "  import pkg_resources\n"
     ]
    },
    {
     "name": "stdout",
     "output_type": "stream",
     "text": [
      "Input molecules processed: 1, skipped: 0\n",
      "PDBQT files written: 1\n",
      "PDBQT files not written due to error: 0\n",
      "Input molecules with errors: 0\n",
      "No duplicate molecule molecule names were found\n"
     ]
    },
    {
     "name": "stderr",
     "output_type": "stream",
     "text": [
      "/opt/anaconda3/envs/molpert/lib/python3.10/site-packages/prody/utilities/misctools.py:424: UserWarning: pkg_resources is deprecated as an API. See https://setuptools.pypa.io/en/latest/pkg_resources.html. The pkg_resources package is slated for removal as early as 2025-11-30. Refrain from using this package or pin to Setuptools<81.\n",
      "  import pkg_resources\n"
     ]
    },
    {
     "name": "stdout",
     "output_type": "stream",
     "text": [
      "Input molecules processed: 1, skipped: 0\n",
      "PDBQT files written: 1\n",
      "PDBQT files not written due to error: 0\n",
      "Input molecules with errors: 0\n",
      "Scrub completed.\n",
      "Summary of what happened:\n",
      "Input molecules supplied: 1\n",
      "mols processed: 1, skipped by rdkit: 0, failed: 0\n",
      "nr isomers (tautomers and acid/base conjugates): 1 (avg. 1.000 per mol)\n",
      "nr conformers:  1 (avg. 1.000 per isomer, 1.000 per mol)\n"
     ]
    },
    {
     "name": "stderr",
     "output_type": "stream",
     "text": [
      "/opt/anaconda3/envs/molpert/lib/python3.10/site-packages/prody/utilities/misctools.py:424: UserWarning: pkg_resources is deprecated as an API. See https://setuptools.pypa.io/en/latest/pkg_resources.html. The pkg_resources package is slated for removal as early as 2025-11-30. Refrain from using this package or pin to Setuptools<81.\n",
      "  import pkg_resources\n"
     ]
    },
    {
     "name": "stdout",
     "output_type": "stream",
     "text": [
      "Input molecules processed: 1, skipped: 0\n",
      "PDBQT files written: 1\n",
      "PDBQT files not written due to error: 0\n",
      "Input molecules with errors: 0\n",
      "No duplicate molecule molecule names were found\n"
     ]
    },
    {
     "name": "stderr",
     "output_type": "stream",
     "text": [
      "/opt/anaconda3/envs/molpert/lib/python3.10/site-packages/prody/utilities/misctools.py:424: UserWarning: pkg_resources is deprecated as an API. See https://setuptools.pypa.io/en/latest/pkg_resources.html. The pkg_resources package is slated for removal as early as 2025-11-30. Refrain from using this package or pin to Setuptools<81.\n",
      "  import pkg_resources\n"
     ]
    },
    {
     "name": "stdout",
     "output_type": "stream",
     "text": [
      "Input molecules processed: 1, skipped: 0\n",
      "PDBQT files written: 1\n",
      "PDBQT files not written due to error: 0\n",
      "Input molecules with errors: 0\n",
      "Scrub completed.\n",
      "Summary of what happened:\n",
      "Input molecules supplied: 1\n",
      "mols processed: 1, skipped by rdkit: 0, failed: 0\n",
      "nr isomers (tautomers and acid/base conjugates): 2 (avg. 2.000 per mol)\n",
      "nr conformers:  2 (avg. 1.000 per isomer, 2.000 per mol)\n"
     ]
    },
    {
     "name": "stderr",
     "output_type": "stream",
     "text": [
      "/opt/anaconda3/envs/molpert/lib/python3.10/site-packages/prody/utilities/misctools.py:424: UserWarning: pkg_resources is deprecated as an API. See https://setuptools.pypa.io/en/latest/pkg_resources.html. The pkg_resources package is slated for removal as early as 2025-11-30. Refrain from using this package or pin to Setuptools<81.\n",
      "  import pkg_resources\n"
     ]
    },
    {
     "name": "stdout",
     "output_type": "stream",
     "text": [
      "Input molecules processed: 2, skipped: 0\n",
      "PDBQT files written: 2\n",
      "PDBQT files not written due to error: 0\n",
      "Input molecules with errors: 0\n",
      "No duplicate molecule molecule names were found\n"
     ]
    },
    {
     "name": "stderr",
     "output_type": "stream",
     "text": [
      "/opt/anaconda3/envs/molpert/lib/python3.10/site-packages/prody/utilities/misctools.py:424: UserWarning: pkg_resources is deprecated as an API. See https://setuptools.pypa.io/en/latest/pkg_resources.html. The pkg_resources package is slated for removal as early as 2025-11-30. Refrain from using this package or pin to Setuptools<81.\n",
      "  import pkg_resources\n"
     ]
    },
    {
     "name": "stdout",
     "output_type": "stream",
     "text": [
      "Processed only the first molecule of multiple molecule input.\n",
      "Use --multimol_prefix and/or --multimol_outdir to process all molecules in epoch_2_lig_47.sdf.\n",
      "Input molecules processed: 1, skipped: 0\n",
      "PDBQT files written: 1\n",
      "PDBQT files not written due to error: 0\n",
      "Input molecules with errors: 0\n",
      "Scrub completed.\n",
      "Summary of what happened:\n",
      "Input molecules supplied: 1\n",
      "mols processed: 1, skipped by rdkit: 0, failed: 0\n",
      "nr isomers (tautomers and acid/base conjugates): 1 (avg. 1.000 per mol)\n",
      "nr conformers:  1 (avg. 1.000 per isomer, 1.000 per mol)\n"
     ]
    },
    {
     "name": "stderr",
     "output_type": "stream",
     "text": [
      "/opt/anaconda3/envs/molpert/lib/python3.10/site-packages/prody/utilities/misctools.py:424: UserWarning: pkg_resources is deprecated as an API. See https://setuptools.pypa.io/en/latest/pkg_resources.html. The pkg_resources package is slated for removal as early as 2025-11-30. Refrain from using this package or pin to Setuptools<81.\n",
      "  import pkg_resources\n"
     ]
    },
    {
     "name": "stdout",
     "output_type": "stream",
     "text": [
      "Input molecules processed: 1, skipped: 0\n",
      "PDBQT files written: 1\n",
      "PDBQT files not written due to error: 0\n",
      "Input molecules with errors: 0\n",
      "No duplicate molecule molecule names were found\n"
     ]
    },
    {
     "name": "stderr",
     "output_type": "stream",
     "text": [
      "/opt/anaconda3/envs/molpert/lib/python3.10/site-packages/prody/utilities/misctools.py:424: UserWarning: pkg_resources is deprecated as an API. See https://setuptools.pypa.io/en/latest/pkg_resources.html. The pkg_resources package is slated for removal as early as 2025-11-30. Refrain from using this package or pin to Setuptools<81.\n",
      "  import pkg_resources\n"
     ]
    },
    {
     "name": "stdout",
     "output_type": "stream",
     "text": [
      "Input molecules processed: 1, skipped: 0\n",
      "PDBQT files written: 1\n",
      "PDBQT files not written due to error: 0\n",
      "Input molecules with errors: 0\n",
      "Scrub completed.\n",
      "Summary of what happened:\n",
      "Input molecules supplied: 1\n",
      "mols processed: 1, skipped by rdkit: 0, failed: 0\n",
      "nr isomers (tautomers and acid/base conjugates): 1 (avg. 1.000 per mol)\n",
      "nr conformers:  1 (avg. 1.000 per isomer, 1.000 per mol)\n"
     ]
    },
    {
     "name": "stderr",
     "output_type": "stream",
     "text": [
      "/opt/anaconda3/envs/molpert/lib/python3.10/site-packages/prody/utilities/misctools.py:424: UserWarning: pkg_resources is deprecated as an API. See https://setuptools.pypa.io/en/latest/pkg_resources.html. The pkg_resources package is slated for removal as early as 2025-11-30. Refrain from using this package or pin to Setuptools<81.\n",
      "  import pkg_resources\n"
     ]
    },
    {
     "name": "stdout",
     "output_type": "stream",
     "text": [
      "Input molecules processed: 1, skipped: 0\n",
      "PDBQT files written: 1\n",
      "PDBQT files not written due to error: 0\n",
      "Input molecules with errors: 0\n",
      "No duplicate molecule molecule names were found\n"
     ]
    },
    {
     "name": "stderr",
     "output_type": "stream",
     "text": [
      "/opt/anaconda3/envs/molpert/lib/python3.10/site-packages/prody/utilities/misctools.py:424: UserWarning: pkg_resources is deprecated as an API. See https://setuptools.pypa.io/en/latest/pkg_resources.html. The pkg_resources package is slated for removal as early as 2025-11-30. Refrain from using this package or pin to Setuptools<81.\n",
      "  import pkg_resources\n"
     ]
    },
    {
     "name": "stdout",
     "output_type": "stream",
     "text": [
      "Input molecules processed: 1, skipped: 0\n",
      "PDBQT files written: 1\n",
      "PDBQT files not written due to error: 0\n",
      "Input molecules with errors: 0\n",
      "Scrub completed.\n",
      "Summary of what happened:\n",
      "Input molecules supplied: 1\n",
      "mols processed: 1, skipped by rdkit: 0, failed: 0\n",
      "nr isomers (tautomers and acid/base conjugates): 1 (avg. 1.000 per mol)\n",
      "nr conformers:  1 (avg. 1.000 per isomer, 1.000 per mol)\n"
     ]
    },
    {
     "name": "stderr",
     "output_type": "stream",
     "text": [
      "/opt/anaconda3/envs/molpert/lib/python3.10/site-packages/prody/utilities/misctools.py:424: UserWarning: pkg_resources is deprecated as an API. See https://setuptools.pypa.io/en/latest/pkg_resources.html. The pkg_resources package is slated for removal as early as 2025-11-30. Refrain from using this package or pin to Setuptools<81.\n",
      "  import pkg_resources\n"
     ]
    },
    {
     "name": "stdout",
     "output_type": "stream",
     "text": [
      "Input molecules processed: 1, skipped: 0\n",
      "PDBQT files written: 1\n",
      "PDBQT files not written due to error: 0\n",
      "Input molecules with errors: 0\n",
      "No duplicate molecule molecule names were found\n"
     ]
    },
    {
     "name": "stderr",
     "output_type": "stream",
     "text": [
      "/opt/anaconda3/envs/molpert/lib/python3.10/site-packages/prody/utilities/misctools.py:424: UserWarning: pkg_resources is deprecated as an API. See https://setuptools.pypa.io/en/latest/pkg_resources.html. The pkg_resources package is slated for removal as early as 2025-11-30. Refrain from using this package or pin to Setuptools<81.\n",
      "  import pkg_resources\n"
     ]
    },
    {
     "name": "stdout",
     "output_type": "stream",
     "text": [
      "Input molecules processed: 1, skipped: 0\n",
      "PDBQT files written: 1\n",
      "PDBQT files not written due to error: 0\n",
      "Input molecules with errors: 0\n",
      "Scrub completed.\n",
      "Summary of what happened:\n",
      "Input molecules supplied: 1\n",
      "mols processed: 1, skipped by rdkit: 0, failed: 0\n",
      "nr isomers (tautomers and acid/base conjugates): 1 (avg. 1.000 per mol)\n",
      "nr conformers:  1 (avg. 1.000 per isomer, 1.000 per mol)\n"
     ]
    },
    {
     "name": "stderr",
     "output_type": "stream",
     "text": [
      "/opt/anaconda3/envs/molpert/lib/python3.10/site-packages/prody/utilities/misctools.py:424: UserWarning: pkg_resources is deprecated as an API. See https://setuptools.pypa.io/en/latest/pkg_resources.html. The pkg_resources package is slated for removal as early as 2025-11-30. Refrain from using this package or pin to Setuptools<81.\n",
      "  import pkg_resources\n"
     ]
    },
    {
     "name": "stdout",
     "output_type": "stream",
     "text": [
      "Input molecules processed: 1, skipped: 0\n",
      "PDBQT files written: 1\n",
      "PDBQT files not written due to error: 0\n",
      "Input molecules with errors: 0\n",
      "No duplicate molecule molecule names were found\n"
     ]
    },
    {
     "name": "stderr",
     "output_type": "stream",
     "text": [
      "/opt/anaconda3/envs/molpert/lib/python3.10/site-packages/prody/utilities/misctools.py:424: UserWarning: pkg_resources is deprecated as an API. See https://setuptools.pypa.io/en/latest/pkg_resources.html. The pkg_resources package is slated for removal as early as 2025-11-30. Refrain from using this package or pin to Setuptools<81.\n",
      "  import pkg_resources\n"
     ]
    },
    {
     "name": "stdout",
     "output_type": "stream",
     "text": [
      "Input molecules processed: 1, skipped: 0\n",
      "PDBQT files written: 1\n",
      "PDBQT files not written due to error: 0\n",
      "Input molecules with errors: 0\n",
      "Scrub completed.\n",
      "Summary of what happened:\n",
      "Input molecules supplied: 1\n",
      "mols processed: 1, skipped by rdkit: 0, failed: 0\n",
      "nr isomers (tautomers and acid/base conjugates): 1 (avg. 1.000 per mol)\n",
      "nr conformers:  1 (avg. 1.000 per isomer, 1.000 per mol)\n"
     ]
    },
    {
     "name": "stderr",
     "output_type": "stream",
     "text": [
      "/opt/anaconda3/envs/molpert/lib/python3.10/site-packages/prody/utilities/misctools.py:424: UserWarning: pkg_resources is deprecated as an API. See https://setuptools.pypa.io/en/latest/pkg_resources.html. The pkg_resources package is slated for removal as early as 2025-11-30. Refrain from using this package or pin to Setuptools<81.\n",
      "  import pkg_resources\n"
     ]
    },
    {
     "name": "stdout",
     "output_type": "stream",
     "text": [
      "Input molecules processed: 1, skipped: 0\n",
      "PDBQT files written: 1\n",
      "PDBQT files not written due to error: 0\n",
      "Input molecules with errors: 0\n",
      "No duplicate molecule molecule names were found\n"
     ]
    },
    {
     "name": "stderr",
     "output_type": "stream",
     "text": [
      "/opt/anaconda3/envs/molpert/lib/python3.10/site-packages/prody/utilities/misctools.py:424: UserWarning: pkg_resources is deprecated as an API. See https://setuptools.pypa.io/en/latest/pkg_resources.html. The pkg_resources package is slated for removal as early as 2025-11-30. Refrain from using this package or pin to Setuptools<81.\n",
      "  import pkg_resources\n",
      "mv: rename *.sdf to failed_ligands/*.sdf: No such file or directory\n"
     ]
    },
    {
     "name": "stdout",
     "output_type": "stream",
     "text": [
      "Input molecules processed: 1, skipped: 0\n",
      "PDBQT files written: 1\n",
      "PDBQT files not written due to error: 0\n",
      "Input molecules with errors: 0\n"
     ]
    },
    {
     "name": "stderr",
     "output_type": "stream",
     "text": [
      "0it [00:00, ?it/s]"
     ]
    },
    {
     "name": "stdout",
     "output_type": "stream",
     "text": [
      "Docking: epoch_2_lig_89-1\n"
     ]
    },
    {
     "name": "stderr",
     "output_type": "stream",
     "text": [
      "WARNING: At low exhaustiveness, it may be impossible to utilize all CPUs.\n",
      "1it [00:05,  5.35s/it]"
     ]
    },
    {
     "name": "stdout",
     "output_type": "stream",
     "text": [
      "Performing docking (random seed: -236248410) ... \n",
      "0%   10   20   30   40   50   60   70   80   90   100%\n",
      "|----|----|----|----|----|----|----|----|----|----|\n",
      "***************************************************\n",
      "\n",
      "mode |   affinity | dist from best mode\n",
      "     | (kcal/mol) | rmsd l.b.| rmsd u.b.\n",
      "-----+------------+----------+----------\n",
      "   1       -5.292          0          0\n",
      "   2       -5.195      1.939      4.623\n",
      "   3       -5.174      1.973      6.136\n",
      "   4       -5.165      1.956      5.575\n",
      "   5       -5.165      7.072       9.13\n",
      "   6       -5.078      6.203      7.813\n",
      "   7       -4.925      5.313      8.034\n",
      "   8       -4.902      3.434      6.583\n",
      "   9       -4.847      2.123      4.672\n",
      "  10       -4.829      2.219      3.097\n",
      "  11       -4.793      4.418      7.171\n",
      "  12       -4.774      4.887      7.558\n",
      "  13       -4.772      3.233      4.703\n",
      "  14       -4.747      2.607      5.688\n",
      "  15       -4.561      2.509      4.997\n",
      "  16       -4.328      3.821      5.779\n",
      "  17       -4.196      2.549      3.552\n",
      "  18       -4.174      4.955      7.784\n",
      "  19       -4.055      12.03      14.97\n",
      "  20       -4.013      2.067      3.146\n",
      "Performing local search ... done.\n"
     ]
    },
    {
     "name": "stderr",
     "output_type": "stream",
     "text": [
      "WARNING: At low exhaustiveness, it may be impossible to utilize all CPUs.\n",
      "2it [00:10,  5.42s/it]"
     ]
    },
    {
     "name": "stdout",
     "output_type": "stream",
     "text": [
      "Docking: epoch_2_lig_41-1\n",
      "Performing docking (random seed: -236248410) ... \n",
      "0%   10   20   30   40   50   60   70   80   90   100%\n",
      "|----|----|----|----|----|----|----|----|----|----|\n",
      "***************************************************\n",
      "\n",
      "mode |   affinity | dist from best mode\n",
      "     | (kcal/mol) | rmsd l.b.| rmsd u.b.\n",
      "-----+------------+----------+----------\n",
      "   1       -8.057          0          0\n",
      "   2       -7.587      4.874      7.526\n",
      "   3       -7.535      4.982      7.825\n",
      "   4       -7.313      4.738      8.032\n",
      "   5       -7.051      5.361      7.256\n",
      "   6        -6.81      4.985      7.386\n",
      "   7       -6.777      7.726      10.67\n",
      "   8       -6.606      3.741      7.085\n",
      "   9       -6.576       3.35      6.267\n",
      "  10       -6.408      4.373      6.798\n",
      "  11       -6.398      6.329       7.71\n",
      "  12       -6.384      4.953      8.589\n",
      "  13       -6.381      6.703      8.885\n",
      "  14       -6.365      5.115      6.554\n",
      "  15       -6.334      4.255      7.774\n",
      "  16       -6.278      6.438      8.921\n",
      "  17       -6.266       7.09      10.25\n",
      "  18       -6.196      6.419      8.025\n",
      "  19       -6.173      7.726      9.225\n",
      "  20       -6.148      3.675      6.178\n",
      "Performing local search ... done.\n",
      "Docking: epoch_2_lig_32-1\n"
     ]
    },
    {
     "name": "stderr",
     "output_type": "stream",
     "text": [
      "WARNING: At low exhaustiveness, it may be impossible to utilize all CPUs.\n"
     ]
    },
    {
     "name": "stdout",
     "output_type": "stream",
     "text": [
      "Performing docking (random seed: -236248410) ... "
     ]
    },
    {
     "name": "stderr",
     "output_type": "stream",
     "text": [
      "3it [00:15,  4.87s/it]"
     ]
    },
    {
     "name": "stdout",
     "output_type": "stream",
     "text": [
      "\n",
      "0%   10   20   30   40   50   60   70   80   90   100%\n",
      "|----|----|----|----|----|----|----|----|----|----|\n",
      "***************************************************\n",
      "\n",
      "mode |   affinity | dist from best mode\n",
      "     | (kcal/mol) | rmsd l.b.| rmsd u.b.\n",
      "-----+------------+----------+----------\n",
      "   1       -7.852          0          0\n",
      "   2       -7.655      9.628      11.45\n",
      "   3       -7.572      3.217        7.6\n",
      "   4        -7.37      10.64      12.55\n",
      "   5         -7.3       8.78      11.13\n",
      "   6       -7.272      9.125      12.04\n",
      "   7       -7.144       9.31      13.03\n",
      "   8       -6.761      10.17      12.43\n",
      "   9       -6.742      10.03      12.65\n",
      "  10       -6.733      8.764      11.37\n",
      "  11       -6.713      9.741      12.33\n",
      "  12       -6.623      10.14      12.49\n",
      "  13       -6.461      6.675      9.965\n",
      "  14       -6.298      7.595      10.88\n",
      "  15       -6.292       8.43      11.74\n",
      "  16       -6.267       9.84      12.91\n",
      "  17       -6.197      3.796      6.402\n",
      "  18       -6.161       6.19        8.3\n",
      "  19       -6.003      8.267      10.57\n",
      "  20       -5.992      8.131      10.79\n",
      "Performing local search ... done.\n",
      "Docking: epoch_2_lig_47-2\n",
      "Performing docking (random seed: -236248410) ... "
     ]
    },
    {
     "name": "stderr",
     "output_type": "stream",
     "text": [
      "WARNING: At low exhaustiveness, it may be impossible to utilize all CPUs.\n",
      "4it [00:19,  4.71s/it]"
     ]
    },
    {
     "name": "stdout",
     "output_type": "stream",
     "text": [
      "\n",
      "0%   10   20   30   40   50   60   70   80   90   100%\n",
      "|----|----|----|----|----|----|----|----|----|----|\n",
      "***************************************************\n",
      "\n",
      "mode |   affinity | dist from best mode\n",
      "     | (kcal/mol) | rmsd l.b.| rmsd u.b.\n",
      "-----+------------+----------+----------\n",
      "   1        -7.51          0          0\n",
      "   2       -7.506      4.275      6.962\n",
      "   3       -6.614      4.027      5.073\n",
      "   4       -6.571      3.226      9.143\n",
      "   5        -6.46      4.006      5.744\n",
      "   6       -6.394      4.159      5.836\n",
      "   7       -6.392      6.679       7.58\n",
      "   8       -6.342       6.77      7.809\n",
      "   9       -6.216      4.184       6.18\n",
      "  10       -6.207      4.385      6.884\n",
      "  11       -6.136      2.123      3.549\n",
      "  12       -6.134      1.543       2.03\n",
      "  13       -6.111      3.308      9.097\n",
      "  14       -6.066      4.958      9.168\n",
      "  15       -5.783      2.935      3.567\n",
      "  16       -5.693      4.257      7.287\n",
      "  17       -5.588      4.228      5.944\n",
      "  18       -5.512      4.275      7.347\n",
      "  19       -5.419      3.519      9.493\n",
      "  20       -5.382      4.087      5.309\n",
      "Performing local search ... done.\n",
      "Docking: epoch_2_lig_10-1\n",
      "Performing docking (random seed: -236248410) ... "
     ]
    },
    {
     "name": "stderr",
     "output_type": "stream",
     "text": [
      "WARNING: At low exhaustiveness, it may be impossible to utilize all CPUs.\n"
     ]
    },
    {
     "name": "stdout",
     "output_type": "stream",
     "text": [
      "\n",
      "0%   10   20   30   40   50   60   70   80   90   100%\n",
      "|----|----|----|----|----|----|----|----|----|----|\n",
      "***************************************************\n"
     ]
    },
    {
     "name": "stderr",
     "output_type": "stream",
     "text": [
      "5it [00:25,  5.01s/it]"
     ]
    },
    {
     "name": "stdout",
     "output_type": "stream",
     "text": [
      "\n",
      "mode |   affinity | dist from best mode\n",
      "     | (kcal/mol) | rmsd l.b.| rmsd u.b.\n",
      "-----+------------+----------+----------\n",
      "   1       -6.047          0          0\n",
      "   2       -5.985      1.018      2.233\n",
      "   3       -5.893      5.063      8.386\n",
      "   4       -5.728       2.16      6.191\n",
      "   5       -5.714      1.583      6.532\n",
      "   6       -5.573      3.056      7.115\n",
      "   7       -5.535      5.713      8.644\n",
      "   8       -5.439      2.737      7.086\n",
      "   9       -5.407      4.914      7.878\n",
      "  10       -5.381      2.375      6.663\n",
      "  11       -5.168      2.558       6.46\n",
      "  12       -5.121      3.092      7.717\n",
      "  13       -5.111      2.727      7.256\n",
      "  14        -5.11       1.53      6.336\n",
      "  15       -5.092      4.301      8.358\n",
      "  16       -4.893      3.004      7.529\n",
      "  17        -4.87      2.208      6.781\n",
      "  18       -4.732      2.165      4.107\n",
      "  19       -4.715      2.156      5.355\n",
      "  20       -4.609      2.103      5.177\n",
      "Performing local search ... done.\n",
      "Docking: epoch_2_lig_54-1\n",
      "Performing docking (random seed: -236248410) ... "
     ]
    },
    {
     "name": "stderr",
     "output_type": "stream",
     "text": [
      "WARNING: At low exhaustiveness, it may be impossible to utilize all CPUs.\n",
      "6it [00:28,  4.49s/it]"
     ]
    },
    {
     "name": "stdout",
     "output_type": "stream",
     "text": [
      "\n",
      "0%   10   20   30   40   50   60   70   80   90   100%\n",
      "|----|----|----|----|----|----|----|----|----|----|\n",
      "***************************************************\n",
      "\n",
      "mode |   affinity | dist from best mode\n",
      "     | (kcal/mol) | rmsd l.b.| rmsd u.b.\n",
      "-----+------------+----------+----------\n",
      "   1       -7.634          0          0\n",
      "   2       -7.577       0.79      1.774\n",
      "   3        -7.55      2.429      4.951\n",
      "   4       -7.056      2.106      4.571\n",
      "   5       -7.027       2.45      4.472\n",
      "   6       -6.878      2.569      4.405\n",
      "   7       -6.857      4.578      6.951\n",
      "   8       -6.832      5.395      8.279\n",
      "   9       -6.795      2.152      4.061\n",
      "  10       -6.697      4.659      8.626\n",
      "  11       -6.639      2.613      4.297\n",
      "  12       -6.614      2.795      4.728\n",
      "  13       -6.567      5.998      9.211\n",
      "  14       -6.479      5.325      8.095\n",
      "  15       -6.407      5.548      8.648\n",
      "  16       -6.324       2.62      5.357\n",
      "  17        -6.26      4.295      7.207\n",
      "  18       -6.259      4.485       8.22\n",
      "  19       -6.222      4.574      7.582\n",
      "  20       -6.167      2.658      4.406\n",
      "Performing local search ... done.\n",
      "Docking: epoch_2_lig_84-1\n",
      "Performing docking (random seed: -236248410) ... \n",
      "0%   10   20   30   40   50   60   70   80   90   100%\n",
      "|----|----|----|----|----|----|----|----|----|----|\n",
      "***************************************************\n",
      "\n",
      "mode |   affinity | dist from best mode\n",
      "     | (kcal/mol) | rmsd l.b.| rmsd u.b.\n",
      "-----+------------+----------+----------\n",
      "   1       -5.651          0          0\n",
      "   2       -5.516      2.741      6.515\n",
      "   3       -5.312      1.434       2.24\n",
      "   4        -5.15      1.047      1.121\n",
      "   5       -5.069      4.871      7.319\n",
      "   6       -4.992      5.397      8.776\n",
      "   7       -4.967      2.787      6.146\n",
      "   8       -4.897       2.15      2.846\n",
      "   9       -4.853      1.626      3.496\n",
      "  10       -4.853      2.048      6.074\n",
      "  11       -4.804      6.023      8.181\n",
      "  12       -4.794      4.129      6.674\n",
      "  13       -4.768      5.536      8.638\n",
      "  14       -4.752      2.137      4.994\n",
      "  15       -4.747      5.553      8.022\n",
      "  16       -4.604      1.918      3.374\n",
      "  17       -4.494      3.501      6.347\n",
      "  18       -4.483       2.58      5.2"
     ]
    },
    {
     "name": "stderr",
     "output_type": "stream",
     "text": [
      "WARNING: At low exhaustiveness, it may be impossible to utilize all CPUs.\n",
      "7it [00:36,  5.60s/it]"
     ]
    },
    {
     "name": "stdout",
     "output_type": "stream",
     "text": [
      "02\n",
      "  19         -4.4      2.337      4.829\n",
      "  20       -4.375      2.455      4.785\n",
      "Performing local search ... done.\n",
      "Docking: epoch_2_lig_60-1\n",
      "Performing docking (random seed: -236248410) ... "
     ]
    },
    {
     "name": "stderr",
     "output_type": "stream",
     "text": [
      "WARNING: At low exhaustiveness, it may be impossible to utilize all CPUs.\n",
      "8it [00:43,  6.16s/it]WARNING: At low exhaustiveness, it may be impossible to utilize all CPUs.\n",
      "9it [00:51,  6.63s/it]"
     ]
    },
    {
     "name": "stdout",
     "output_type": "stream",
     "text": [
      "\n",
      "0%   10   20   30   40   50   60   70   80   90   100%\n",
      "|----|----|----|----|----|----|----|----|----|----|\n",
      "***************************************************\n",
      "\n",
      "mode |   affinity | dist from best mode\n",
      "     | (kcal/mol) | rmsd l.b.| rmsd u.b.\n",
      "-----+------------+----------+----------\n",
      "   1       -6.583          0          0\n",
      "   2       -6.034      3.666      7.552\n",
      "   3       -6.015      6.744      9.156\n",
      "   4       -5.985      2.736      6.366\n",
      "   5       -5.925      5.402      8.226\n",
      "   6       -5.801      5.956      8.872\n",
      "   7       -5.638      6.526      9.492\n",
      "   8       -5.502      6.361      10.05\n",
      "   9       -5.379      6.846      9.919\n",
      "  10       -5.362      7.654      10.09\n",
      "  11       -5.324      5.953       7.69\n",
      "  12       -5.182      5.631      8.323\n",
      "  13       -5.141      7.975      10.26\n",
      "  14       -5.133       2.72      6.131\n",
      "  15       -5.125      6.881      9.888\n",
      "  16       -5.074      6.258       9.46\n",
      "  17       -5.038      7.512      10.09\n",
      "  18       -4.882      6.182      8.953\n",
      "  19        -4.78      3.496      6.364\n",
      "  20       -4.676      6.469      9.756\n",
      "Performing local search ... done.\n",
      "Docking: epoch_2_lig_69-1\n",
      "Performing docking (random seed: -236248410) ... \n",
      "0%   10   20   30   40   50   60   70   80   90   100%\n",
      "|----|----|----|----|----|----|----|----|----|----|\n",
      "***************************************************\n",
      "\n",
      "mode |   affinity | dist from best mode\n",
      "     | (kcal/mol) | rmsd l.b.| rmsd u.b.\n",
      "-----+------------+----------+----------\n",
      "   1       -5.509          0          0\n",
      "   2       -4.894      2.668      5.997\n",
      "   3       -4.893      5.777      8.442\n",
      "   4       -4.487      4.585      7.709\n",
      "   5       -4.441       3.12       6.38\n",
      "   6       -4.422      2.252       5.23\n",
      "   7       -4.385      2.842      5.527\n",
      "   8       -4.318       7.08      9.283\n",
      "   9       -4.288      1.837      2.239\n",
      "  10       -4.286      6.459      8.704\n",
      "  11       -4.205      6.446      9.365\n",
      "  12       -4.141      6.295      8.807\n",
      "  13       -4.064       4.88      6.895\n",
      "  14        -4.06      4.693      7.515\n",
      "  15       -3.888       2.17      4.741\n",
      "  16       -3.887      3.115      6.244\n",
      "  17       -3.836      5.174      8.008\n",
      "  18       -3.717       5.68      9.109\n",
      "  19       -3.656      6.164      9.259\n",
      "  20       -3.566      2.681      5.725\n",
      "Performing local search ... done.\n"
     ]
    }
   ],
   "source": [
    "# Array to save the result \n",
    "# Will eventually turn into pd df\n",
    "rows = []\n",
    "\n",
    "# Docking info for the starting structure \n",
    "rows.append(\n",
    "    vina_prepare_and_dock_ligand_first(\n",
    "        starting_point,\n",
    "        starting_point_name,\n",
    "        prepare_ligand_script_path,\n",
    "        v_receptor,\n",
    "        prepared_ligands_path,\n",
    "        output_folder\n",
    "    )\n",
    ")\n",
    "\n",
    "# Need to set previous epoch's starting point's docking score \n",
    "prev_docking = rows[0]['docking_score']\n",
    "\n",
    "# Propagate for epoch\n",
    "for epoch in range(1,n_epoch):\n",
    "    # Propagate the trajectory from the starting point \n",
    "    trajs = propagate_chemical_space_trajectory_reps(starting_point, n_rep, n_pert, SA_threshold)\n",
    "\n",
    "    # Cluster the concatenated trajectory / get medoids (representative structure) \n",
    "    trajs_concat = np.concatenate(trajs)\n",
    "    clusters, medoids = cluster_trajectory(trajs_concat, cluster_size_threshold)\n",
    "\n",
    "    # Prepare ligands (medoid structures) \n",
    "    prepare_ligand_batch(\n",
    "        medoids,\n",
    "        trajs_concat,\n",
    "        epoch,\n",
    "        prepare_ligand_script_path\n",
    "    )\n",
    "\n",
    "    # Dock ligands to prepared receptor grid \n",
    "    docking_result = vina_dock_ligand_batch(\n",
    "        prepared_ligands_path,\n",
    "        epoch,\n",
    "        v_receptor,\n",
    "        output_folder\n",
    "    )\n",
    "\n",
    "    # Accept or reject and add the accepted structures to rows\n",
    "    accept_or_reject = sigmoid_acceptance_criteria(\n",
    "        docking_result,\n",
    "        prev_docking,\n",
    "        0.5 \n",
    "    )\n",
    "\n",
    "    # Determine what the next epoch's starting structure should be\n",
    "    if docking_result[accept_or_reject].size == 0:\n",
    "    # No structures were accepted / do nothing & keep the previous starting point / run again   \n",
    "        continue\n",
    "    else:\n",
    "    # Accepted at least one structure\n",
    "    # Out of N structure, select one at random and select it to be the next \n",
    "        # Append data to rows\n",
    "        for i in docking_result[accept_or_reject]:\n",
    "            rows.append(i)\n",
    "\n",
    "        # Pick the starting structure for next epoch\n",
    "        pick = np.random.choice(docking_result[accept_or_reject])\n",
    "        pick_idx = int(pick['name'].split('_lig_')[1].split('-')[0])\n",
    "        starting_point = Chem.MolToSmiles(trajs_concat[pick_idx])\n",
    "        prev_docking   = pick['docking_score']\n",
    "\n",
    "# Convert to dataframe\n",
    "df = pd.DataFrame(rows, columns=['epoch', 'name', 'docking_score', 'smiles'])"
   ]
  },
  {
   "cell_type": "code",
   "execution_count": null,
   "id": "ef816894-3e2e-4e43-bdba-0946914a424c",
   "metadata": {},
   "outputs": [],
   "source": [
    "df.to_csv(f'epoch_{n_epoch}_rep_{n_rep}_pert_{n_pert}.csv',index=False)"
   ]
  },
  {
   "cell_type": "code",
   "execution_count": null,
   "id": "3fccfc8f-9b12-47ef-b710-062081a8680c",
   "metadata": {},
   "outputs": [],
   "source": []
  }
 ],
 "metadata": {
  "kernelspec": {
   "display_name": "Python 3 (ipykernel)",
   "language": "python",
   "name": "python3"
  },
  "language_info": {
   "codemirror_mode": {
    "name": "ipython",
    "version": 3
   },
   "file_extension": ".py",
   "mimetype": "text/x-python",
   "name": "python",
   "nbconvert_exporter": "python",
   "pygments_lexer": "ipython3",
   "version": "3.10.18"
  }
 },
 "nbformat": 4,
 "nbformat_minor": 5
}
